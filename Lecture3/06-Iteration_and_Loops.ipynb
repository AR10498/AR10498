{
 "cells": [
  {
   "cell_type": "markdown",
   "metadata": {
    "deletable": false,
    "editable": false,
    "nbgrader": {
     "cell_type": "markdown",
     "checksum": "2905f98c20cf67ca707e03448d07f883",
     "grade": false,
     "grade_id": "cell-e16f08659cce93ea",
     "locked": true,
     "schema_version": 3,
     "solution": false,
     "task": false
    }
   },
   "source": [
    "Run all cells marked `In [ ]` using the [$\\blacktriangleright$ Run] button above and **think about the result you see**.\n",
    "Be sure to do all exercises (in blank cells) and run all completed code cells. \n",
    "\n",
    "If anything goes wrong, **restart the kernel** (in the menubar, select Kernel$\\rightarrow$Restart). Or run text cells to get the formatted text back from markdown."
   ]
  },
  {
   "cell_type": "markdown",
   "metadata": {
    "deletable": false,
    "editable": false,
    "nbgrader": {
     "cell_type": "markdown",
     "checksum": "20ed87f59d5261edc30851961107ec8c",
     "grade": false,
     "grade_id": "cell-50b9cb0b3970f0e6",
     "locked": true,
     "schema_version": 3,
     "solution": false,
     "task": false
    }
   },
   "source": [
    "---"
   ]
  },
  {
   "cell_type": "markdown",
   "metadata": {
    "deletable": false,
    "editable": false,
    "nbgrader": {
     "cell_type": "markdown",
     "checksum": "9719f773a1e6c305343b06ad0afe1dc8",
     "grade": false,
     "grade_id": "cell-6e6673aeefb2769f",
     "locked": true,
     "schema_version": 3,
     "solution": false,
     "task": false
    }
   },
   "source": [
    "# Iteration and `for` Loops"
   ]
  },
  {
   "cell_type": "markdown",
   "metadata": {
    "deletable": false,
    "editable": false,
    "nbgrader": {
     "cell_type": "markdown",
     "checksum": "7b553aa052978e48e53b3072e2a6d2b9",
     "grade": false,
     "grade_id": "cell-240e9355e64c12ab",
     "locked": true,
     "schema_version": 3,
     "solution": false,
     "task": false
    }
   },
   "source": [
    "## Generating New Lists\n",
    "\n",
    "Remember that the `list()` function creates a new list out of another object.\n",
    "\n",
    "\n",
    "### Using inbuilt functions\n",
    "\n",
    "The `range()` function can be used to generate a range of integers, which can be made into a list:"
   ]
  },
  {
   "cell_type": "code",
   "execution_count": null,
   "metadata": {
    "deletable": false,
    "editable": false,
    "nbgrader": {
     "cell_type": "code",
     "checksum": "6b3146e37be93a8a668b66e2456385a4",
     "grade": false,
     "grade_id": "cell-cf0ee03d08d74bc8",
     "locked": true,
     "schema_version": 3,
     "solution": false,
     "task": false
    }
   },
   "outputs": [],
   "source": [
    "# create a list with a range of 10 elements\n",
    "a = list(range(10))\n",
    "print(a)"
   ]
  },
  {
   "cell_type": "code",
   "execution_count": null,
   "metadata": {
    "deletable": false,
    "editable": false,
    "nbgrader": {
     "cell_type": "code",
     "checksum": "1d011c27a925d4bd4194508f85753d52",
     "grade": false,
     "grade_id": "cell-fcec28286dcdc1b6",
     "locked": true,
     "schema_version": 3,
     "solution": false,
     "task": false
    }
   },
   "outputs": [],
   "source": [
    "# Numbers don't have to start at zero:\n",
    "a = list(range(5,10))\n",
    "print(a)"
   ]
  },
  {
   "cell_type": "code",
   "execution_count": null,
   "metadata": {
    "deletable": false,
    "editable": false,
    "nbgrader": {
     "cell_type": "code",
     "checksum": "420aafe7970817b8b00a7cc1c15ce8c6",
     "grade": false,
     "grade_id": "cell-c13416e880969951",
     "locked": true,
     "schema_version": 3,
     "solution": false,
     "task": false
    }
   },
   "outputs": [],
   "source": [
    "# a third parameter controls the step size (integers only)\n",
    "a = list(range(1,10,2))\n",
    "print(a)"
   ]
  },
  {
   "cell_type": "markdown",
   "metadata": {
    "deletable": false,
    "editable": false,
    "nbgrader": {
     "cell_type": "markdown",
     "checksum": "01790a0640e6da6b7a72c2d31ef173db",
     "grade": false,
     "grade_id": "cell-299274b6e3414fc3",
     "locked": true,
     "schema_version": 3,
     "solution": false,
     "task": false
    }
   },
   "source": [
    "### Exercise:\n",
    "* **Make a list from 3 to 9 in steps of 3**:"
   ]
  },
  {
   "cell_type": "code",
   "execution_count": null,
   "metadata": {
    "deletable": false,
    "nbgrader": {
     "cell_type": "code",
     "checksum": "dc41ad6e4f4e2cabd3e6d180e6a5af34",
     "grade": false,
     "grade_id": "cell-a4c04e473214a461",
     "locked": false,
     "points": 0,
     "schema_version": 3,
     "solution": false,
     "task": false
    }
   },
   "outputs": [],
   "source": [
    "#a = ?\n",
    "# YOUR CODE HERE\n",
    "\n",
    "\n",
    "\n",
    "print(a)"
   ]
  },
  {
   "cell_type": "markdown",
   "metadata": {
    "deletable": false,
    "editable": false,
    "nbgrader": {
     "cell_type": "markdown",
     "checksum": "3c78dd597677752c3f0c5883bc6c2e8d",
     "grade": false,
     "grade_id": "cell-290c376ff3de1e87",
     "locked": true,
     "schema_version": 3,
     "solution": false,
     "task": false
    }
   },
   "source": [
    "Result: `[3, 6, 9]`\n",
    "\n",
    "[Click for solution](solutions/sol0601.ipynb)"
   ]
  },
  {
   "cell_type": "markdown",
   "metadata": {
    "deletable": false,
    "editable": false,
    "nbgrader": {
     "cell_type": "markdown",
     "checksum": "068d5c20cc829bc95f2e4529a30297f6",
     "grade": false,
     "grade_id": "cell-45fd0240fb73ccd7",
     "locked": true,
     "schema_version": 3,
     "solution": false,
     "task": false
    }
   },
   "source": [
    "### Making a new list from another list\n",
    "\n",
    "New lists can be generated by manipulating each of the items in an existing list.  \n",
    "\n",
    "* For example \"print a list of $x^2$ values for all $x$ values **in** the list `[1, 2, 3]`\".  "
   ]
  },
  {
   "cell_type": "code",
   "execution_count": null,
   "metadata": {
    "ExecuteTime": {
     "end_time": "2019-02-01T21:27:23.982333Z",
     "start_time": "2019-02-01T21:27:23.976343Z"
    },
    "deletable": false,
    "editable": false,
    "nbgrader": {
     "cell_type": "code",
     "checksum": "f7717571ddbe423d50f0636c2bf2b2a7",
     "grade": false,
     "grade_id": "cell-686824ed19f9da62",
     "locked": true,
     "schema_version": 3,
     "solution": false,
     "task": false
    }
   },
   "outputs": [],
   "source": [
    "xlist = [1, 2, 3, 4, 5]\n",
    "\n",
    "xsq = [x**2 for x in xlist]\n",
    "print(xsq)"
   ]
  },
  {
   "cell_type": "markdown",
   "metadata": {
    "deletable": false,
    "editable": false,
    "nbgrader": {
     "cell_type": "markdown",
     "checksum": "ed9d956df500fed6c48d4dbb3a9dde4d",
     "grade": false,
     "grade_id": "cell-259b33c6ba8e4f13",
     "locked": true,
     "schema_version": 3,
     "solution": false,
     "task": false
    }
   },
   "source": [
    "#### This method is known as _\"list comprehension\"_.\n",
    "\n",
    "This also works for non-numerical lists:"
   ]
  },
  {
   "cell_type": "code",
   "execution_count": null,
   "metadata": {
    "ExecuteTime": {
     "end_time": "2019-02-01T21:27:25.117056Z",
     "start_time": "2019-02-01T21:27:25.112057Z"
    },
    "deletable": false,
    "editable": false,
    "nbgrader": {
     "cell_type": "code",
     "checksum": "28e8ac40527aa317e76280d21c1eb281",
     "grade": false,
     "grade_id": "cell-ee143a2aa243d9d4",
     "locked": true,
     "schema_version": 3,
     "solution": false,
     "task": false
    }
   },
   "outputs": [],
   "source": [
    "# apply the function len(a) for every word `a` in the list [...]\n",
    "word_lengths = [len(word) for word in [\"spam\", \"egg\", \"cheese\"]]\n",
    "\n",
    "print(\"The words in the list are:\", word_lengths, \"letters long.\")"
   ]
  },
  {
   "cell_type": "markdown",
   "metadata": {
    "deletable": false,
    "editable": false,
    "nbgrader": {
     "cell_type": "markdown",
     "checksum": "aa8db5dbd12ad040e02a25e469e0a063",
     "grade": false,
     "grade_id": "cell-c2cd49cc4112b2fd",
     "locked": true,
     "schema_version": 3,
     "solution": false,
     "task": false
    }
   },
   "source": [
    "And for strings:"
   ]
  },
  {
   "cell_type": "code",
   "execution_count": null,
   "metadata": {
    "deletable": false,
    "editable": false,
    "nbgrader": {
     "cell_type": "code",
     "checksum": "f1d0a5952220cb93ea3a47f61df73f05",
     "grade": false,
     "grade_id": "cell-3731b59efb7ebf45",
     "locked": true,
     "schema_version": 3,
     "solution": false,
     "task": false
    }
   },
   "outputs": [],
   "source": [
    "mystring = \"Hello World!\"\n",
    "\n",
    "# create a new list with elemets that are the string \"The next...\" plus each character c in the given list\n",
    "newlist = [\"The next character is \"+c for c in mystring]\n",
    "\n",
    "print(newlist)"
   ]
  },
  {
   "cell_type": "markdown",
   "metadata": {
    "deletable": false,
    "editable": false,
    "nbgrader": {
     "cell_type": "markdown",
     "checksum": "7089c7507c6018ba5b5e9815b4c29952",
     "grade": false,
     "grade_id": "cell-61eec738ce377e08",
     "locked": true,
     "schema_version": 3,
     "solution": false,
     "task": false
    }
   },
   "source": [
    "## Exercise 1: \n",
    "\n",
    "1. Use the `list()` and `range()` functions to create a list of integers called `ivals`  \n",
    "2. Use ***list comprehension*** on `ivals` to create a list with 9 values from $-\\pi$ to $\\pi$.  \n",
    "    * The formula to use is: $-\\pi + (2 n \\pi)/8$ for each value $n$ in a list `[0...8]` created using `list()` and `range()`.  \n",
    "Use the syntax: `newlist = [CALCULATION for VALUE in OLDLIST]` using the calculation formula above\n",
    "\n",
    "\n",
    "* You will need to import `pi` from the `math` library\n",
    "* The values obtained should be $-\\pi, -3\\pi/4, -\\pi/2, -\\pi/4, 0.0, \\pi/4, \\pi/2, 3\\pi/4, \\pi$"
   ]
  },
  {
   "cell_type": "code",
   "execution_count": null,
   "metadata": {
    "deletable": false,
    "nbgrader": {
     "cell_type": "code",
     "checksum": "66cfc2cb24dffec6d8b332fd400c6626",
     "grade": false,
     "grade_id": "cell-ae06a6f4e255a731",
     "locked": false,
     "points": 0,
     "schema_version": 3,
     "solution": false,
     "task": false
    }
   },
   "outputs": [],
   "source": [
    "# from ? import ?\n",
    "# YOUR CODE HERE\n",
    "\n",
    "\n",
    "\n",
    "# use list and range to create a list of indices called ivals\n",
    "#ivals = ???(???(?))\n",
    "# YOUR CODE HERE\n",
    "\n",
    "\n",
    "# create a new list using list comprehension (see hint hidden below if you get stuck)\n",
    "\n",
    "#pilist = [??? for ? in ???]\n",
    "# YOUR CODE HERE\n",
    "\n",
    "\n",
    "print(pilist)"
   ]
  },
  {
   "cell_type": "markdown",
   "metadata": {
    "deletable": false,
    "editable": false,
    "nbgrader": {
     "cell_type": "markdown",
     "checksum": "72c63df29ccf29f456b6424b06559bae",
     "grade": false,
     "grade_id": "cell-77e48a7882aeca68",
     "locked": true,
     "schema_version": 3,
     "solution": false,
     "task": false
    }
   },
   "source": [
    "Expected output  \n",
    "`[-3.141592653589793, -2.356194490192345, -1.5707963267948966, -0.7853981633974483, 0.0, 0.7853981633974483, 1.5707963267948966, 2.356194490192345, 3.141592653589793]`\n",
    "\n",
    "\n",
    "[Click for solution](solutions/sol0602.ipynb)\n",
    "\n",
    "* This example shows why counting from zero can be useful (think about this)."
   ]
  },
  {
   "cell_type": "markdown",
   "metadata": {
    "deletable": false,
    "editable": false,
    "nbgrader": {
     "cell_type": "markdown",
     "checksum": "c6748a001eb60bbb2b611179e4feaa21",
     "grade": false,
     "grade_id": "cell-592f7342b42951a5",
     "locked": true,
     "schema_version": 3,
     "solution": false,
     "task": false
    }
   },
   "source": [
    "## Iterating using FOR loops\n",
    "\n",
    "Another way to repeatedly perform some function **for** all the items in a list is using a *\"`for` loop\"*.\n",
    "\n",
    "### Iterating through Strings \n",
    "\n",
    "We can step through the letters in a string and repeat a block of\n",
    "**INDENTED** code <span>**for**</span> each character in the string. \n",
    "\n",
    "Here the `for` statement takes each letter in the string\n",
    "`\"Hello World!\"` in turn and assigns it to the variable we call `letr`. \n",
    "\n",
    "The indented code block is repeated in a loop for each character. \n",
    "\n",
    "Each time the loop repeats the variable `letr` takes the next value.  \n",
    "Once the string is finished the indented block exits.\n",
    "\n",
    "* Notice that the code that is repeated has to be *indented* (usually by 4 spaces)."
   ]
  },
  {
   "cell_type": "code",
   "execution_count": null,
   "metadata": {
    "ExecuteTime": {
     "end_time": "2019-02-01T21:26:47.74223Z",
     "start_time": "2019-02-01T21:26:47.736237Z"
    },
    "deletable": false,
    "editable": false,
    "nbgrader": {
     "cell_type": "code",
     "checksum": "938933405a9a71e33982906ac9e1922a",
     "grade": false,
     "grade_id": "cell-0acd8bf74eccca14",
     "locked": true,
     "schema_version": 3,
     "solution": false,
     "task": false
    }
   },
   "outputs": [],
   "source": [
    "for letr in \"Hello World!\":\n",
    "    print(\"The next character is: \"+letr)\n",
    "    print('...')\n",
    "\n",
    "print(\"The end!\")"
   ]
  },
  {
   "cell_type": "markdown",
   "metadata": {
    "deletable": false,
    "editable": false,
    "nbgrader": {
     "cell_type": "markdown",
     "checksum": "bcc47042306d24ba2818837c97aa6e85",
     "grade": false,
     "grade_id": "cell-afff67b4347abb8c",
     "locked": true,
     "schema_version": 3,
     "solution": false,
     "task": false
    }
   },
   "source": [
    "This is equivalent to performing the following commands in sequence:\n",
    "```python\n",
    "letr='H'\n",
    "print(\"the next letter is:\", letr)\n",
    "letr='e'\n",
    "print(\"the next letter is:\", letr)\n",
    "```\n",
    "... and so on."
   ]
  },
  {
   "cell_type": "markdown",
   "metadata": {
    "deletable": false,
    "editable": false,
    "nbgrader": {
     "cell_type": "markdown",
     "checksum": "e056af0b5c86e8fc6a631e15d1c65940",
     "grade": false,
     "grade_id": "cell-fdedee93ea3330d6",
     "locked": true,
     "schema_version": 3,
     "solution": false,
     "task": false
    }
   },
   "source": [
    "### FOR Loops on Lists\n",
    "\n",
    "We can step through the items in a list in the same way as stepping\n",
    "through the characters in a string."
   ]
  },
  {
   "cell_type": "code",
   "execution_count": null,
   "metadata": {
    "ExecuteTime": {
     "end_time": "2019-02-01T21:27:02.622294Z",
     "start_time": "2019-02-01T21:27:02.616302Z"
    },
    "deletable": false,
    "editable": false,
    "nbgrader": {
     "cell_type": "code",
     "checksum": "12bc1ec19962fcafbdb1ae21055e004c",
     "grade": false,
     "grade_id": "cell-7c35a17c12a446c1",
     "locked": true,
     "schema_version": 3,
     "solution": false,
     "task": false
    }
   },
   "outputs": [],
   "source": [
    "for next_item in [\"spam\", \"eggs\", \"cheese\"]:\n",
    "    print(\"buy some\", next_item)"
   ]
  },
  {
   "cell_type": "markdown",
   "metadata": {
    "deletable": false,
    "editable": false,
    "nbgrader": {
     "cell_type": "markdown",
     "checksum": "57efca513bb747f8a3632f88c3ac2bf3",
     "grade": false,
     "grade_id": "cell-9a816ab477815ef9",
     "locked": true,
     "schema_version": 3,
     "solution": false,
     "task": false
    }
   },
   "source": [
    "### Performing calculations using FOR loops\n",
    "\n",
    "Look at the three ways of performing the same task below to see\n",
    "how FOR loops can be used to simplify a task (the comma stops printing on a new line):"
   ]
  },
  {
   "cell_type": "code",
   "execution_count": null,
   "metadata": {
    "ExecuteTime": {
     "end_time": "2019-02-01T21:27:21.64639Z",
     "start_time": "2019-02-01T21:27:21.640389Z"
    },
    "deletable": false,
    "editable": false,
    "nbgrader": {
     "cell_type": "code",
     "checksum": "a3324f94bfa719cdb5f8b4ef5a416cca",
     "grade": false,
     "grade_id": "cell-9303228c815da72a",
     "locked": true,
     "schema_version": 3,
     "solution": false,
     "task": false
    }
   },
   "outputs": [],
   "source": [
    "print(1**2, end=', ')\n",
    "print(2**2, end=', ')\n",
    "print(3**2)"
   ]
  },
  {
   "cell_type": "markdown",
   "metadata": {
    "deletable": false,
    "editable": false,
    "nbgrader": {
     "cell_type": "markdown",
     "checksum": "aec58177aa2a10d085c201db09fab86e",
     "grade": false,
     "grade_id": "cell-faa4f72e0e2e3465",
     "locked": true,
     "schema_version": 3,
     "solution": false,
     "task": false
    }
   },
   "source": [
    "* The `end=', '` argument makes sure each `print()` is followed by a comma and not a new line (return character).\n",
    "\n",
    "We can rewrite this using a counter `n`:"
   ]
  },
  {
   "cell_type": "code",
   "execution_count": null,
   "metadata": {
    "ExecuteTime": {
     "end_time": "2019-02-01T21:27:22.192037Z",
     "start_time": "2019-02-01T21:27:22.184044Z"
    },
    "deletable": false,
    "editable": false,
    "nbgrader": {
     "cell_type": "code",
     "checksum": "731171d6134e084397f115695d8b107c",
     "grade": false,
     "grade_id": "cell-9603b55da4ef8e16",
     "locked": true,
     "schema_version": 3,
     "solution": false,
     "task": false
    }
   },
   "outputs": [],
   "source": [
    "n = 1\n",
    "print(n**2, end=', ')\n",
    "n = 2\n",
    "print(n**2, end=', ')\n",
    "n = 3\n",
    "print(n**2)"
   ]
  },
  {
   "cell_type": "markdown",
   "metadata": {
    "deletable": false,
    "editable": false,
    "nbgrader": {
     "cell_type": "markdown",
     "checksum": "69b37de6b5045eb74c41035a85238a76",
     "grade": false,
     "grade_id": "cell-85644f56851b9641",
     "locked": true,
     "schema_version": 3,
     "solution": false,
     "task": false
    }
   },
   "source": [
    "This can now be made compact using a loop:"
   ]
  },
  {
   "cell_type": "code",
   "execution_count": null,
   "metadata": {
    "ExecuteTime": {
     "end_time": "2019-02-01T21:27:22.750072Z",
     "start_time": "2019-02-01T21:27:22.744071Z"
    },
    "deletable": false,
    "editable": false,
    "nbgrader": {
     "cell_type": "code",
     "checksum": "c6e4dd74c7cb24caaba7741dff2e25ec",
     "grade": false,
     "grade_id": "cell-5b24b09c65829133",
     "locked": true,
     "schema_version": 3,
     "solution": false,
     "task": false
    }
   },
   "outputs": [],
   "source": [
    "numbers = [1, 2, 3]\n",
    "for n in numbers:\n",
    "    print(n**2, end=', ')"
   ]
  },
  {
   "cell_type": "markdown",
   "metadata": {
    "deletable": false,
    "editable": false,
    "nbgrader": {
     "cell_type": "markdown",
     "checksum": "b66821c51298e3d659e25c5bfe0f76af",
     "grade": false,
     "grade_id": "cell-1b3c547fd5545034",
     "locked": true,
     "schema_version": 3,
     "solution": false,
     "task": false
    }
   },
   "source": [
    "#### Using the range() Function\n",
    "\n",
    "The `range` function can be used directly to iterate a block of instructions for\n",
    "a set number of steps, i.e. for a certain *range* of values.\n",
    "\n",
    "Here `i` is just a variable name for a counter that takes values in the range `0:5` (i.e. 6 values),  \n",
    "it could be used in the calculation, or as an index to access a value in a list or string, or not used at all:\n",
    "\n",
    "* Notice that a **BLOCK** of code is indented by the same number of spaces, and all of this repeats"
   ]
  },
  {
   "cell_type": "code",
   "execution_count": null,
   "metadata": {
    "ExecuteTime": {
     "end_time": "2019-02-01T21:27:27.924285Z",
     "start_time": "2019-02-01T21:27:27.917293Z"
    },
    "deletable": false,
    "editable": false,
    "nbgrader": {
     "cell_type": "code",
     "checksum": "ec3cbc9d9d861b1cf9f4952b805f4fe7",
     "grade": false,
     "grade_id": "cell-5b419752e23eb446",
     "locked": true,
     "schema_version": 3,
     "solution": false,
     "task": false
    }
   },
   "outputs": [],
   "source": [
    "n = 1\n",
    "\n",
    "# for each iteration of the loop, times the previous n by 10\n",
    "for i in range(6):\n",
    "    n = n*10\n",
    "    print(i, n)\n",
    "    \n",
    "print(\"\"\"\\nAnything after the indented block, using normal indentation (back to the margin), \n",
    "only gets executed AFTER the loop has finished iterating.\"\"\")"
   ]
  },
  {
   "cell_type": "markdown",
   "metadata": {
    "deletable": false,
    "editable": false,
    "nbgrader": {
     "cell_type": "markdown",
     "checksum": "dbcf59ed5f6e4a9227c9ae7e761720bb",
     "grade": false,
     "grade_id": "cell-193dede43492b9c2",
     "locked": true,
     "schema_version": 3,
     "solution": false,
     "task": false
    }
   },
   "source": [
    "The full syntax for the range function is `range(int1,int2,step)`, where the list generated is all\n",
    "the integers <span>*between*</span> the integers `int1` and `int2` in\n",
    "steps of `step`.  \n",
    "This does not include the actual value `int2` (refer to [Slicing rules](05-Strings_and_Lists#Slicing-Sections-out-of-Strings)).  \n",
    "If the start value (`int1`)\n",
    "is omitted the list starts from 0, and the default step is 1."
   ]
  },
  {
   "cell_type": "markdown",
   "metadata": {
    "deletable": false,
    "editable": false,
    "nbgrader": {
     "cell_type": "markdown",
     "checksum": "4505b71bfd4a347a0f97e701bd29ddc2",
     "grade": false,
     "grade_id": "cell-246bdaf957872e22",
     "locked": true,
     "schema_version": 3,
     "solution": false,
     "task": false
    }
   },
   "source": [
    "## Exercise 2\n",
    "\n",
    "### Fibonacci Sequence Iteration\n",
    "\n",
    "Numbers in the Fibonacci sequence are given by adding the previous two numbers $x_N = x_{N-1} + x_{N-2}$ in the sequence: $1, 1, 2, 3, 5, 8, \\dots$ \n",
    "\n",
    "Use the following outline for a code (so-called *\"pseudo-code\"*) to write a program to generate the first\n",
    "12 values of the Fibonacci sequence.\n",
    "\n",
    "1. Define a new list containing first two values (1 and 1) using square bracket notation,\n",
    "2. use a FOR loop and the range() function to iterate for ten steps (12 values in total).\n",
    "3. use negative indexing to sum the last two values of the list and assign it to a variable for the next value,\n",
    "e.g.:\n",
    "```python\n",
    "a_list = [\"one\", \"two\", \"three\", \"four\", \"five\"]\n",
    "print(\"The last two values are\", a_list[-2], \"and\", a_list[-1])\n",
    "```\n",
    "Results in:\n",
    "```\n",
    "The last two values are four and five\n",
    "```\n",
    "4. append this next value ($x_N = x_{N-1} + x_{N-2}$) in the sequence to the end of the list using syntax like:\n",
    "```python\n",
    "LISTNAME=LISTNAME+[NEWENTRY]\n",
    "```\n",
    "or the append function, which does the same thing:\n",
    "```python\n",
    "LISTNAME.append(NEWENTRY)\n",
    "```\n",
    "5. Print the list"
   ]
  },
  {
   "cell_type": "code",
   "execution_count": null,
   "metadata": {
    "deletable": false,
    "nbgrader": {
     "cell_type": "code",
     "checksum": "c2c0e856d8cada5a667ad4add3d3e0c0",
     "grade": false,
     "grade_id": "cell-f8059f699f38045e",
     "locked": false,
     "points": 0,
     "schema_version": 3,
     "solution": false,
     "task": false
    }
   },
   "outputs": [],
   "source": [
    "# Fibonacci sequence\n",
    "\n",
    "# first define the first two values\n",
    "fib = [1, 1]\n",
    "\n",
    "# iterate for 10 steps\n",
    "#for ? in ???:\n",
    "# YOUR CODE HERE\n",
    "\n",
    "    # calculate next value as sum of previous two values of the list\n",
    "    # join it to the end of the list\n",
    "    # YOUR CODE HERE\n",
    "    \n",
    "\n",
    "# Print the list\n",
    "# YOUR CODE HERE\n"
   ]
  },
  {
   "cell_type": "markdown",
   "metadata": {
    "deletable": false,
    "editable": false,
    "nbgrader": {
     "cell_type": "markdown",
     "checksum": "5f9fff3c6e55342a501fb5c73a4dc2ea",
     "grade": false,
     "grade_id": "cell-7795dd193bc0bc0c",
     "locked": true,
     "schema_version": 3,
     "solution": false,
     "task": false
    }
   },
   "source": [
    "Result: `[1, 1, 2, 3, 5, 8, 13, 21, 34, 55, 89, 144]`\n",
    "\n",
    "[Click here for solution](solutions/sol0603.ipynb)\n",
    "    \n",
    "-   Try printing the ratio of the last two steps at each iteration and\n",
    "    see how they converge to the *[Golden Ratio](https://en.wikipedia.org/wiki/Golden_ratio)*."
   ]
  },
  {
   "cell_type": "markdown",
   "metadata": {
    "deletable": false,
    "editable": false,
    "nbgrader": {
     "cell_type": "markdown",
     "checksum": "185f2a05a03a6c6f44b093ea8830bdb7",
     "grade": false,
     "grade_id": "cell-2bd4475f60ce14e9",
     "locked": true,
     "schema_version": 3,
     "solution": false,
     "task": false
    }
   },
   "source": [
    "Nested Loops\n",
    "------------\n",
    "\n",
    "We can also have loops inside loops, which are called <span>*nested\n",
    "loops*</span>. In the case of a nested FOR loop, for each item in the\n",
    "list we then iterate over the contents and perform some action."
   ]
  },
  {
   "cell_type": "code",
   "execution_count": null,
   "metadata": {
    "ExecuteTime": {
     "end_time": "2019-02-01T21:27:29.217244Z",
     "start_time": "2019-02-01T21:27:29.209246Z"
    },
    "deletable": false,
    "editable": false,
    "nbgrader": {
     "cell_type": "code",
     "checksum": "595db470d3f38a6ac12d0ed5221d1cab",
     "grade": false,
     "grade_id": "cell-dc977b57c8443c1e",
     "locked": true,
     "schema_version": 3,
     "solution": false,
     "task": false
    }
   },
   "outputs": [],
   "source": [
    "for a_word in [\"spam\", \"eggs\", \"cheese\"]:\n",
    "    # print the word as a whole\n",
    "    print(a_word+\":\", end=\" \")\n",
    "\n",
    "    # this inner loop loops over each word in the top-level outer loop\n",
    "    for a_letter in a_word:\n",
    "        print(a_letter, \";\", end=\" \")\n",
    "\n",
    "    # Start a new line:\n",
    "    print()"
   ]
  },
  {
   "cell_type": "markdown",
   "metadata": {
    "deletable": false,
    "editable": false,
    "nbgrader": {
     "cell_type": "markdown",
     "checksum": "f1a23cbf249bba79805aff09dee81064",
     "grade": false,
     "grade_id": "cell-8de6a4be7ac2a976",
     "locked": true,
     "schema_version": 3,
     "solution": false,
     "task": false
    }
   },
   "source": [
    "Where the general format is:\n",
    "```python\n",
    "HEADER 1: \n",
    "    CODE FOR BLOCK 1\n",
    "        HEADER 2: \n",
    "            CODE FOR BLOCK 2 \n",
    "            ... \n",
    "        MORE CODE FOR BLOCK 1 \n",
    "        ...\n",
    "MAIN PROGRAMME\n",
    "```"
   ]
  },
  {
   "cell_type": "code",
   "execution_count": null,
   "metadata": {
    "ExecuteTime": {
     "end_time": "2019-02-01T21:27:33.294281Z",
     "start_time": "2019-02-01T21:27:33.288284Z"
    },
    "deletable": false,
    "editable": false,
    "nbgrader": {
     "cell_type": "code",
     "checksum": "89e629d42959c83bcea8e8ed938ca9bd",
     "grade": false,
     "grade_id": "cell-2872ce001a34076d",
     "locked": true,
     "schema_version": 3,
     "solution": false,
     "task": false
    }
   },
   "outputs": [],
   "source": [
    "n = 3\n",
    "for i in range(n):\n",
    "    for j in range(1, 4):\n",
    "        print(i, j, i*n + j)"
   ]
  },
  {
   "cell_type": "markdown",
   "metadata": {
    "deletable": false,
    "editable": false,
    "nbgrader": {
     "cell_type": "markdown",
     "checksum": "2ba6b09fd03d7138a57fed722831f514",
     "grade": false,
     "grade_id": "cell-3b87631a899480e1",
     "locked": true,
     "schema_version": 3,
     "solution": false,
     "task": false
    }
   },
   "source": [
    "Another useful function is `enumerate()`, which gives an index number to items in a list or string:"
   ]
  },
  {
   "cell_type": "code",
   "execution_count": null,
   "metadata": {
    "deletable": false,
    "editable": false,
    "nbgrader": {
     "cell_type": "code",
     "checksum": "f961788ef138b09dea47e9cc93a95e6f",
     "grade": false,
     "grade_id": "cell-9ff67294de3b0a58",
     "locked": true,
     "schema_version": 3,
     "solution": false,
     "task": false
    }
   },
   "outputs": [],
   "source": [
    "greeting = \"Hello World!\"\n",
    "for idx, letr in enumerate(greeting):\n",
    "    print(f\"Character with index {idx} is: {letr}\")"
   ]
  },
  {
   "cell_type": "markdown",
   "metadata": {
    "deletable": false,
    "editable": false,
    "nbgrader": {
     "cell_type": "markdown",
     "checksum": "392c77ad0f385ebc7e1d8ce8e26e1c4f",
     "grade": false,
     "grade_id": "cell-b0b8b042b01acb8e",
     "locked": true,
     "schema_version": 3,
     "solution": false,
     "task": false
    }
   },
   "source": [
    "* Note that the `f\"Some String with {variable}\"` allows the inline formatting of a variable directly in a string."
   ]
  }
 ],
 "metadata": {
  "anaconda-cloud": {},
  "hide_input": false,
  "kernelspec": {
   "display_name": "Python 3 (ipykernel)",
   "language": "python",
   "name": "python3"
  },
  "language_info": {
   "codemirror_mode": {
    "name": "ipython",
    "version": 3
   },
   "file_extension": ".py",
   "mimetype": "text/x-python",
   "name": "python",
   "nbconvert_exporter": "python",
   "pygments_lexer": "ipython3",
   "version": "3.11.9"
  },
  "toc": {
   "base_numbering": 1,
   "nav_menu": {},
   "number_sections": true,
   "sideBar": true,
   "skip_h1_title": false,
   "title_cell": "Table of Contents",
   "title_sidebar": "Contents",
   "toc_cell": false,
   "toc_position": {},
   "toc_section_display": true,
   "toc_window_display": false
  }
 },
 "nbformat": 4,
 "nbformat_minor": 1
}
