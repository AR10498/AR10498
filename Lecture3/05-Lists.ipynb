{
 "cells": [
  {
   "cell_type": "markdown",
   "metadata": {
    "deletable": false,
    "editable": false,
    "nbgrader": {
     "cell_type": "markdown",
     "checksum": "2905f98c20cf67ca707e03448d07f883",
     "grade": false,
     "grade_id": "cell-e16f08659cce93ea",
     "locked": true,
     "schema_version": 3,
     "solution": false,
     "task": false
    }
   },
   "source": [
    "Run all cells marked `In [ ]` using the [$\\blacktriangleright$ Run] button above and **think about the result you see**.\n",
    "Be sure to do all exercises (in blank cells) and run all completed code cells. \n",
    "\n",
    "If anything goes wrong, **restart the kernel** (in the menubar, select Kernel$\\rightarrow$Restart). Or run text cells to get the formatted text back from markdown."
   ]
  },
  {
   "cell_type": "markdown",
   "metadata": {
    "deletable": false,
    "editable": false,
    "nbgrader": {
     "cell_type": "markdown",
     "checksum": "20ed87f59d5261edc30851961107ec8c",
     "grade": false,
     "grade_id": "cell-50b9cb0b3970f0e6",
     "locked": true,
     "schema_version": 3,
     "solution": false,
     "task": false
    }
   },
   "source": [
    "---"
   ]
  },
  {
   "cell_type": "markdown",
   "metadata": {
    "deletable": false,
    "editable": false,
    "nbgrader": {
     "cell_type": "markdown",
     "checksum": "537fb6d92dd13852869669d3dcc15bda",
     "grade": false,
     "grade_id": "cell-3c2bcff910d82bf9",
     "locked": true,
     "schema_version": 3,
     "solution": false,
     "task": false
    }
   },
   "source": [
    "# Lists \n",
    "\n",
    "\n",
    "A `list` is a data type consisting of multiple elements. \n",
    "\n",
    "Lists are defined by enclosing them in square brackets.  \n",
    "The elements in a list can be of any type in Python,\n",
    "including text strings or numbers."
   ]
  },
  {
   "cell_type": "code",
   "execution_count": null,
   "metadata": {
    "deletable": false,
    "editable": false,
    "nbgrader": {
     "cell_type": "code",
     "checksum": "a0a89733410f01d1775f041aa3be152f",
     "grade": false,
     "grade_id": "cell-19401d589c8ae947",
     "locked": true,
     "schema_version": 3,
     "solution": false,
     "task": false
    }
   },
   "outputs": [],
   "source": [
    "v = [1, 2, 1.5, \"Hello\"]\n",
    "print(v)"
   ]
  },
  {
   "cell_type": "markdown",
   "metadata": {
    "deletable": false,
    "editable": false,
    "nbgrader": {
     "cell_type": "markdown",
     "checksum": "edf953297399431113e7ab32810cd80f",
     "grade": false,
     "grade_id": "cell-9e5b15b641053188",
     "locked": true,
     "schema_version": 3,
     "solution": false,
     "task": false
    }
   },
   "source": [
    "## Generating New Lists\n",
    "\n",
    "\n",
    "### Using inbuilt functions\n",
    "\n",
    "The `list()` function can be used to create a new empty list:"
   ]
  },
  {
   "cell_type": "code",
   "execution_count": null,
   "metadata": {
    "deletable": false,
    "editable": false,
    "nbgrader": {
     "cell_type": "code",
     "checksum": "7df5c1f75e9f8a9ed96be374cb76f4e9",
     "grade": false,
     "grade_id": "cell-8dc77ce79b13996c",
     "locked": true,
     "schema_version": 3,
     "solution": false,
     "task": false
    }
   },
   "outputs": [],
   "source": [
    "a = list()\n",
    "print(a)"
   ]
  },
  {
   "cell_type": "markdown",
   "metadata": {
    "deletable": false,
    "editable": false,
    "nbgrader": {
     "cell_type": "markdown",
     "checksum": "70b2a3093f03f41982c2de55bda16167",
     "grade": false,
     "grade_id": "cell-9e5b15b641053199",
     "locked": true,
     "schema_version": 3,
     "solution": false,
     "task": false
    }
   },
   "source": [
    "This is the same as saying:\n",
    "```python\n",
    "a = []\n",
    "```\n",
    "\n",
    "### Converting an iterable object to a list:"
   ]
  },
  {
   "cell_type": "code",
   "execution_count": 1,
   "metadata": {
    "deletable": false,
    "editable": false,
    "nbgrader": {
     "cell_type": "code",
     "checksum": "941ca4a265de4b4f3667cde7ca32a980",
     "grade": false,
     "grade_id": "cell-3d6b7a42dd786f33",
     "locked": true,
     "schema_version": 3,
     "solution": false,
     "task": false
    }
   },
   "outputs": [
    {
     "name": "stdout",
     "output_type": "stream",
     "text": [
      "['H', 'e', 'l', 'l', 'o', ' ', 'W', 'o', 'r', 'l', 'd']\n"
     ]
    }
   ],
   "source": [
    "a = \"Hello World\" # this is a string which is like a list of characters\n",
    "b = list(a) # make a list from the string contents\n",
    "\n",
    "print(b)"
   ]
  },
  {
   "cell_type": "markdown",
   "metadata": {
    "deletable": false,
    "editable": false,
    "nbgrader": {
     "cell_type": "markdown",
     "checksum": "b3bb992224560d50099a700b3597d5de",
     "grade": false,
     "grade_id": "cell-c2a99f0b702ed736",
     "locked": true,
     "schema_version": 3,
     "solution": false,
     "task": false
    }
   },
   "source": [
    "### Accessing an item in a list using its *Index*\n",
    "\n",
    "The elements from a list can also be selected using their *index* in\n",
    "square brackets following the list's name, just like with strings:"
   ]
  },
  {
   "cell_type": "code",
   "execution_count": null,
   "metadata": {
    "deletable": false,
    "editable": false,
    "nbgrader": {
     "cell_type": "code",
     "checksum": "53a37326eef88bf29d5bff4092549a34",
     "grade": false,
     "grade_id": "cell-7d2d417169799062",
     "locked": true,
     "schema_version": 3,
     "solution": false,
     "task": false
    }
   },
   "outputs": [],
   "source": [
    "import math\n",
    "\n",
    "v1 = [1, 2.5, \"Hello\", \"goodbye\", math.pi]"
   ]
  },
  {
   "cell_type": "code",
   "execution_count": null,
   "metadata": {
    "deletable": false,
    "editable": false,
    "nbgrader": {
     "cell_type": "code",
     "checksum": "862eac4dd9901787b36899d4b378b4a3",
     "grade": false,
     "grade_id": "cell-af5cb609c9c83beb",
     "locked": true,
     "schema_version": 3,
     "solution": false,
     "task": false
    }
   },
   "outputs": [],
   "source": [
    "# access the first element\n",
    "print(v1[0])"
   ]
  },
  {
   "cell_type": "code",
   "execution_count": null,
   "metadata": {
    "deletable": false,
    "editable": false,
    "nbgrader": {
     "cell_type": "code",
     "checksum": "75f5b208850a461e9a752a16f1effb92",
     "grade": false,
     "grade_id": "cell-0a2f1c535fa9df51",
     "locked": true,
     "schema_version": 3,
     "solution": false,
     "task": false
    }
   },
   "outputs": [],
   "source": [
    "# slice from between the second and fourth \"fence-post\" (third and fourth elements)\n",
    "print(v1[2:4])"
   ]
  },
  {
   "cell_type": "code",
   "execution_count": null,
   "metadata": {
    "deletable": false,
    "editable": false,
    "nbgrader": {
     "cell_type": "code",
     "checksum": "646742a6572747a58ee95882c86db13b",
     "grade": false,
     "grade_id": "cell-3109fcdc8efc3cac",
     "locked": true,
     "schema_version": 3,
     "solution": false,
     "task": false
    }
   },
   "outputs": [],
   "source": [
    "# print the last element\n",
    "print(v1[-1])"
   ]
  },
  {
   "cell_type": "markdown",
   "metadata": {
    "deletable": false,
    "editable": false,
    "nbgrader": {
     "cell_type": "markdown",
     "checksum": "6408b6108cab91ac2ca5ee9a3d7d59f0",
     "grade": false,
     "grade_id": "cell-3247516fb3f70d0e",
     "locked": true,
     "schema_version": 3,
     "solution": false,
     "task": false
    }
   },
   "source": [
    "### Slicing Lists\n",
    "\n",
    "We can also *slice* lists to take more than one value at a time."
   ]
  },
  {
   "cell_type": "code",
   "execution_count": null,
   "metadata": {
    "deletable": false,
    "editable": false,
    "nbgrader": {
     "cell_type": "code",
     "checksum": "837749aebb490b8cebf2198663b9e4fd",
     "grade": false,
     "grade_id": "cell-8be1eebd7b1341a2",
     "locked": true,
     "schema_version": 3,
     "solution": false,
     "task": false
    }
   },
   "outputs": [],
   "source": [
    "pilist = [3, \".\", 1, 4, 1, 5, 9, 2, 6, 5, 3, 5, 9]\n",
    "\n",
    "print(pilist[0:7])"
   ]
  },
  {
   "cell_type": "markdown",
   "metadata": {
    "deletable": false,
    "editable": false,
    "nbgrader": {
     "cell_type": "markdown",
     "checksum": "9a3d10c1790da867c9de5c71eeed551c",
     "grade": false,
     "grade_id": "cell-7cb5a02d6b960d40",
     "locked": true,
     "schema_version": 3,
     "solution": false,
     "task": false
    }
   },
   "source": [
    "### Adding to (_\"appending\"_ to) a list:"
   ]
  },
  {
   "cell_type": "code",
   "execution_count": null,
   "metadata": {
    "deletable": false,
    "editable": false,
    "nbgrader": {
     "cell_type": "code",
     "checksum": "d87c86185ce6d01c522432a6eaa0312b",
     "grade": false,
     "grade_id": "cell-294a12b5b36434a8",
     "locked": true,
     "schema_version": 3,
     "solution": false,
     "task": false
    }
   },
   "outputs": [],
   "source": [
    "b = list(\"Hello World\")\n",
    "\n",
    "b.append(\"!\")\n",
    "\n",
    "print(b)"
   ]
  },
  {
   "cell_type": "code",
   "execution_count": null,
   "metadata": {
    "deletable": false,
    "editable": false,
    "nbgrader": {
     "cell_type": "code",
     "checksum": "7b06dff1d57e1b515597d098ee0433ca",
     "grade": false,
     "grade_id": "cell-8baee739c5e98de6",
     "locked": true,
     "schema_version": 3,
     "solution": false,
     "task": false
    }
   },
   "outputs": [],
   "source": [
    "\"-\".join(b) #join the elements of a list using the specified string between them"
   ]
  },
  {
   "cell_type": "markdown",
   "metadata": {
    "deletable": false,
    "editable": false,
    "nbgrader": {
     "cell_type": "markdown",
     "checksum": "7a5ee6b85e9e598412c2470d02441f79",
     "grade": false,
     "grade_id": "cell-efa03460b7a9f215",
     "locked": true,
     "schema_version": 3,
     "solution": false,
     "task": false
    }
   },
   "source": [
    "We can also combine lists using the `+` operator:"
   ]
  },
  {
   "cell_type": "code",
   "execution_count": null,
   "metadata": {
    "deletable": false,
    "editable": false,
    "nbgrader": {
     "cell_type": "code",
     "checksum": "fd7a0daca35dfe0a178b947c94509b44",
     "grade": false,
     "grade_id": "cell-335c2380cac580d9",
     "locked": true,
     "schema_version": 3,
     "solution": false,
     "task": false
    }
   },
   "outputs": [],
   "source": [
    "a = [1,2,3]\n",
    "b = [4,5,6]\n",
    "c = a+b\n",
    "\n",
    "print(c)"
   ]
  },
  {
   "cell_type": "code",
   "execution_count": null,
   "metadata": {
    "deletable": false,
    "editable": false,
    "nbgrader": {
     "cell_type": "code",
     "checksum": "59dd6c9ffd6fe7c1642a0c52fbff9102",
     "grade": false,
     "grade_id": "cell-d2a9a4573127d54b",
     "locked": true,
     "schema_version": 3,
     "solution": false,
     "task": false
    }
   },
   "outputs": [],
   "source": [
    "a = ['H', 'e', 'l', 'l', 'o', ' ', 'W', 'o', 'r', 'l', 'd']\n",
    "b = a+[\"!\"]\n",
    "\n",
    "print(b)"
   ]
  },
  {
   "cell_type": "markdown",
   "metadata": {
    "deletable": false,
    "editable": false,
    "nbgrader": {
     "cell_type": "markdown",
     "checksum": "029a329c328c6ac56c6b124385cee85e",
     "grade": false,
     "grade_id": "cell-5e8d46f6074b2db1",
     "locked": true,
     "schema_version": 3,
     "solution": false,
     "task": false
    }
   },
   "source": [
    "### Joining Lists\n",
    "\n",
    "Concatenating (joining) lists can be done using the `+` symbol, which\n",
    "does not add the lists in a numerical sense. "
   ]
  },
  {
   "cell_type": "code",
   "execution_count": null,
   "metadata": {
    "deletable": false,
    "editable": false,
    "nbgrader": {
     "cell_type": "code",
     "checksum": "652c5cb63dc2ee1c9ec62f946173084e",
     "grade": false,
     "grade_id": "cell-ee11134808b35c20",
     "locked": true,
     "schema_version": 3,
     "solution": false,
     "task": false
    }
   },
   "outputs": [],
   "source": [
    "a = [1, 2, 3, 4, 5]\n",
    "b = [6, 7, 8, 9, 10]\n",
    "c = a+b\n",
    "\n",
    "print(c)"
   ]
  },
  {
   "cell_type": "markdown",
   "metadata": {
    "deletable": false,
    "editable": false,
    "nbgrader": {
     "cell_type": "markdown",
     "checksum": "cc06db1d450b581a6ce679c7453514bb",
     "grade": false,
     "grade_id": "cell-47046f65e9b622c2",
     "locked": true,
     "schema_version": 3,
     "solution": false,
     "task": false
    }
   },
   "source": [
    "### Nested Lists\n",
    "\n",
    "Lists can also contain lists. These are known as *nested lists* and are\n",
    "demonstrated below:"
   ]
  },
  {
   "cell_type": "code",
   "execution_count": null,
   "metadata": {
    "deletable": false,
    "editable": false,
    "nbgrader": {
     "cell_type": "code",
     "checksum": "d135cd4214d4178096c3eb4a94e737f1",
     "grade": false,
     "grade_id": "cell-2b1bb89342606b88",
     "locked": true,
     "schema_version": 3,
     "solution": false,
     "task": false
    }
   },
   "outputs": [],
   "source": [
    "lst1 = [\"a\", \"b\", \"c\", \"d\", \"e\", \"f\", \"g\", \"h\", \"i\", \"j\"]\n",
    "lst2 = [[1, 2, 3], lst1, \"Hello\"]\n",
    "\n",
    "print(lst2)"
   ]
  },
  {
   "cell_type": "code",
   "execution_count": null,
   "metadata": {
    "deletable": false,
    "editable": false,
    "nbgrader": {
     "cell_type": "code",
     "checksum": "0a74ece670c98a7493d4e8bba6e4bab3",
     "grade": false,
     "grade_id": "cell-0b8df87027d48dac",
     "locked": true,
     "schema_version": 3,
     "solution": false,
     "task": false
    }
   },
   "outputs": [],
   "source": [
    "ls1 = [1, 2, 3]\n",
    "ls2 = [4, 5, 6]\n",
    "ls3 = [7, 8, 9]\n",
    "lst = [ls1, ls2, ls3]\n",
    "\n",
    "print(lst)"
   ]
  },
  {
   "cell_type": "markdown",
   "metadata": {
    "deletable": false,
    "editable": false,
    "nbgrader": {
     "cell_type": "markdown",
     "checksum": "57ca0b81d8aa1b22b48bbcc2e1af475b",
     "grade": false,
     "grade_id": "cell-3361a7a29c403f3f",
     "locked": true,
     "schema_version": 3,
     "solution": false,
     "task": false
    }
   },
   "source": [
    "### Changing Values in a List \n",
    "\n",
    "Any entry in a list can be changed using its index or slice:"
   ]
  },
  {
   "cell_type": "code",
   "execution_count": null,
   "metadata": {
    "deletable": false,
    "editable": false,
    "nbgrader": {
     "cell_type": "code",
     "checksum": "466551f54e3cdd24e3f6c19ec31a283f",
     "grade": false,
     "grade_id": "cell-5a62cf1941408cac",
     "locked": true,
     "schema_version": 3,
     "solution": false,
     "task": false
    }
   },
   "outputs": [],
   "source": [
    "lst1 = [\"a\", \"b\", \"c\", \"d\", \"e\", \"f\", \"g\", \"h\", \"i\", \"j\"]\n",
    "\n",
    "# replacing a single element print lst1\n",
    "lst1[0] = \"A\"\n",
    "print(lst1)"
   ]
  },
  {
   "cell_type": "code",
   "execution_count": null,
   "metadata": {
    "deletable": false,
    "editable": false,
    "nbgrader": {
     "cell_type": "code",
     "checksum": "a834bd693e84dd82b3d602c201226bea",
     "grade": false,
     "grade_id": "cell-a0b912746fdc42b7",
     "locked": true,
     "schema_version": 3,
     "solution": false,
     "task": false
    }
   },
   "outputs": [],
   "source": [
    "# replacing slice [\"d\",\"e\",\"f\",\"g\"] with [3,4,5]\n",
    "lst1[3:7] = [3, 4, 5]\n",
    "print(lst1)"
   ]
  },
  {
   "cell_type": "markdown",
   "metadata": {
    "deletable": false,
    "editable": false,
    "nbgrader": {
     "cell_type": "markdown",
     "checksum": "53d92f560d73b25780e91cdfb6b548eb",
     "grade": false,
     "grade_id": "cell-6be832010c8b254a",
     "locked": true,
     "schema_version": 3,
     "solution": false,
     "task": false
    }
   },
   "source": [
    "* **Replace element \"b\" with the list [7,8,9]**:"
   ]
  },
  {
   "cell_type": "code",
   "execution_count": null,
   "metadata": {
    "deletable": false,
    "nbgrader": {
     "cell_type": "code",
     "checksum": "067bdf82b2fc65bc3328b79f8989989b",
     "grade": false,
     "grade_id": "cell-c92d9b89934108c0",
     "locked": false,
     "points": 0,
     "schema_version": 3,
     "solution": false,
     "task": false
    }
   },
   "outputs": [],
   "source": [
    "lst1 = ['A', 'b', 'c', 3, 4, 5, 'h', 'i', 'j']\n",
    "\n",
    "#lst1[?] = ?\n",
    "# YOUR CODE HERE\n",
    "\n",
    "\n",
    "print(lst1)"
   ]
  },
  {
   "cell_type": "markdown",
   "metadata": {
    "deletable": false,
    "editable": false,
    "nbgrader": {
     "cell_type": "markdown",
     "checksum": "ccc03221fe6ed057af14d3cd8bacef0f",
     "grade": false,
     "grade_id": "cell-8bb49001b44f706c",
     "locked": true,
     "schema_version": 3,
     "solution": false,
     "task": false
    }
   },
   "source": [
    "Expected Result: `['A', [7, 8, 9], 'c', 3, 4, 5, 'h', 'i', 'j']`\n",
    "\n",
    "[Click for solution](solutions/sol0501.ipynb)"
   ]
  },
  {
   "cell_type": "markdown",
   "metadata": {
    "deletable": false,
    "editable": false,
    "nbgrader": {
     "cell_type": "markdown",
     "checksum": "e09b766a0b463db40a86a5809706e225",
     "grade": false,
     "grade_id": "cell-91aa981b0e4ae852",
     "locked": true,
     "schema_version": 3,
     "solution": false,
     "task": false
    }
   },
   "source": [
    "Notice the different behaviour when replacing a slice or a single\n",
    "element with a list:\n",
    "\n",
    "-   a slice is replaced with elements from the inserted list in place of\n",
    "    the original slice\n",
    "\n",
    "-   a single entry has the list inserted *with the list* as the\n",
    "    *element* entry.\n",
    "\n",
    "Notice also that the length of the list changes as we replace a 4\n",
    "element slice with a three slice. Also when counting list entries, the\n",
    "entries in sub-lists do not get counted, just the sub-list itself as a\n",
    "whole object."
   ]
  },
  {
   "cell_type": "markdown",
   "metadata": {
    "deletable": false,
    "editable": false,
    "nbgrader": {
     "cell_type": "markdown",
     "checksum": "0dba01a7065e2f6cef9732f269deccab",
     "grade": false,
     "grade_id": "cell-8460eb989df268ff",
     "locked": true,
     "schema_version": 3,
     "solution": false,
     "task": false
    }
   },
   "source": [
    "### Accessing Sub-items of Lists\n",
    "\n",
    "Look at the following example and see if you can figure out what's going\n",
    "on (explanation beneath):"
   ]
  },
  {
   "cell_type": "code",
   "execution_count": null,
   "metadata": {
    "deletable": false,
    "editable": false,
    "nbgrader": {
     "cell_type": "code",
     "checksum": "e7164b73575c9c7fa97e7062dc2ca1b9",
     "grade": false,
     "grade_id": "cell-632fe3653352662c",
     "locked": true,
     "schema_version": 3,
     "solution": false,
     "task": false
    }
   },
   "outputs": [],
   "source": [
    "lst1 = [1, 1.5, \"hello\", [1, 2, 3, 4]]\n",
    "\n",
    "a = lst1[3]\n",
    "print(a)\n",
    "print(a[1])\n",
    "\n",
    "print(lst1[2][1])\n",
    "print(lst1[3][2:4])"
   ]
  },
  {
   "cell_type": "markdown",
   "metadata": {
    "deletable": false,
    "editable": false,
    "nbgrader": {
     "cell_type": "markdown",
     "checksum": "2124992a80b1523b3822cfc5852c82a1",
     "grade": false,
     "grade_id": "cell-96644d17a69681cc",
     "locked": true,
     "schema_version": 3,
     "solution": false,
     "task": false
    }
   },
   "source": [
    "The basic idea is that the first set of square brackets says\n",
    "which part of the main list we want.  \n",
    "\n",
    "If this item itself has more than one element we can access these elements  \n",
    "using another set of square\n",
    "brackets:  `listname[item][subitem][subsubitem]` etc. \n",
    "\n",
    "The first example\n",
    "above shows this more clearly by firstly extracting item `lst1[3]` of\n",
    "the main list and then taking element 1 from this. The next example\n",
    "shows this on a numerical list."
   ]
  },
  {
   "cell_type": "code",
   "execution_count": null,
   "metadata": {
    "deletable": false,
    "editable": false,
    "nbgrader": {
     "cell_type": "code",
     "checksum": "c35a0f57effc9b6040e1404387e88967",
     "grade": false,
     "grade_id": "cell-4fe8a778e52b1db2",
     "locked": true,
     "schema_version": 3,
     "solution": false,
     "task": false
    }
   },
   "outputs": [],
   "source": [
    "lst = [[1, 2, 3], [4, 5, 6], [7, 8, 9]]\n",
    "\n",
    "print(lst[1])\n",
    "print(lst[1][0])\n",
    "\n",
    "a = lst[1][2]\n",
    "b = lst[2][0]\n",
    "\n",
    "print(a*b)"
   ]
  },
  {
   "cell_type": "markdown",
   "metadata": {
    "deletable": false,
    "editable": false,
    "nbgrader": {
     "cell_type": "markdown",
     "checksum": "e87966b868938761d67b8f5df37409ca",
     "grade": false,
     "grade_id": "cell-8b0a8f2ab8a1858e",
     "locked": true,
     "schema_version": 3,
     "solution": false,
     "task": false
    }
   },
   "source": [
    "## Summary"
   ]
  },
  {
   "cell_type": "code",
   "execution_count": null,
   "metadata": {
    "deletable": false,
    "editable": false,
    "nbgrader": {
     "cell_type": "code",
     "checksum": "4e8aa5a14534c0f9e226c6b1c7b8dff8",
     "grade": false,
     "grade_id": "cell-401e7301c0405879",
     "locked": true,
     "schema_version": 3,
     "solution": false,
     "task": false
    }
   },
   "outputs": [],
   "source": [
    "# a comment is ignored\n",
    "\n",
    "something = \"A string of characters\"  # giving a text string a variable name\n",
    "# slicing: remember it goes up to one less than the last index\n",
    "print(something[2:8])\n",
    "\n",
    "# accessing using an index number: remember indexing starts at zero\n",
    "print(something[3])\n",
    "\n",
    "a_list = [\"anything in\", 2, \"square\", \"brackets\", [1, 2, 3]]\n",
    "\n",
    "print(a_list[1] * a_list[4][2])  # accessing lists and sub-lists"
   ]
  }
 ],
 "metadata": {
  "anaconda-cloud": {},
  "hide_input": false,
  "kernelspec": {
   "display_name": "Python 3 (ipykernel)",
   "language": "python",
   "name": "python3"
  },
  "language_info": {
   "codemirror_mode": {
    "name": "ipython",
    "version": 3
   },
   "file_extension": ".py",
   "mimetype": "text/x-python",
   "name": "python",
   "nbconvert_exporter": "python",
   "pygments_lexer": "ipython3",
   "version": "3.11.9"
  },
  "toc": {
   "base_numbering": 1,
   "nav_menu": {},
   "number_sections": true,
   "sideBar": true,
   "skip_h1_title": false,
   "title_cell": "Table of Contents",
   "title_sidebar": "Contents",
   "toc_cell": false,
   "toc_position": {},
   "toc_section_display": true,
   "toc_window_display": false
  }
 },
 "nbformat": 4,
 "nbformat_minor": 1
}
