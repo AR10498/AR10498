{
 "cells": [
  {
   "cell_type": "code",
   "execution_count": 1,
   "metadata": {},
   "outputs": [
    {
     "name": "stdout",
     "output_type": "stream",
     "text": [
      "14\n",
      "12\n"
     ]
    }
   ],
   "source": [
    "def rectangle_geometry(W, H):\n",
    "    P = 2*W + 2*H\n",
    "    A = W*H\n",
    "    return P, A\n",
    "\n",
    "width=3\n",
    "height=4\n",
    "\n",
    "perimeter, area = rectangle_geometry(width, height)\n",
    "print(perimeter)\n",
    "print(area)"
   ]
  }
 ],
 "metadata": {
  "kernelspec": {
   "display_name": "Python 3 (ipykernel)",
   "language": "python",
   "name": "python3"
  },
  "language_info": {
   "codemirror_mode": {
    "name": "ipython",
    "version": 3
   },
   "file_extension": ".py",
   "mimetype": "text/x-python",
   "name": "python",
   "nbconvert_exporter": "python",
   "pygments_lexer": "ipython3",
   "version": "3.9.13"
  }
 },
 "nbformat": 4,
 "nbformat_minor": 4
}
