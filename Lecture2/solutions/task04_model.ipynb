{
 "cells": [
  {
   "cell_type": "markdown",
   "metadata": {
    "deletable": false,
    "editable": false,
    "nbgrader": {
     "cell_type": "markdown",
     "checksum": "2905f98c20cf67ca707e03448d07f883",
     "grade": false,
     "grade_id": "cell-e16f08659cce93ea",
     "locked": true,
     "schema_version": 3,
     "solution": false,
     "task": false
    }
   },
   "source": [
    "Run all cells marked `In [ ]` using the [$\\blacktriangleright$ Run] button above and **think about the result you see**.\n",
    "Be sure to do all exercises (in blank cells) and run all completed code cells. \n",
    "\n",
    "If anything goes wrong, **restart the kernel** (in the menubar, select Kernel$\\rightarrow$Restart). Or run text cells to get the formatted text back from markdown."
   ]
  },
  {
   "cell_type": "markdown",
   "metadata": {
    "deletable": false,
    "editable": false,
    "nbgrader": {
     "cell_type": "markdown",
     "checksum": "20ed87f59d5261edc30851961107ec8c",
     "grade": false,
     "grade_id": "cell-50b9cb0b3970f0e6",
     "locked": true,
     "schema_version": 3,
     "solution": false,
     "task": false
    }
   },
   "source": [
    "---"
   ]
  },
  {
   "cell_type": "code",
   "execution_count": null,
   "metadata": {},
   "outputs": [],
   "source": [
    "from math import sin, pi\n",
    "\n",
    "def sinc(x):\n",
    "    if x==0:\n",
    "        x=1e-16\n",
    "    return sin(x)/x\n",
    "\n",
    "def newton(f, x):\n",
    "    err = 1\n",
    "    while abs(err)>1e-6:\n",
    "        old = x\n",
    "        dx=1e-6\n",
    "        dfdx = ( f(x+dx)-f(x) )/dx \n",
    "        x = x - f(x)/dfdx\n",
    "        err = x - old\n",
    "    return x \n",
    "\n",
    "s = sinc(0)\n",
    "print(s)\n",
    "\n",
    "r1 = newton(sin, 1)\n",
    "print(r1) \n",
    "\n",
    "#test case 2:\n",
    "r2 = newton(sinc, 1)\n",
    "print(r2) "
   ]
  }
 ],
 "metadata": {
  "kernelspec": {
   "display_name": "Python 3",
   "language": "python",
   "name": "python3"
  },
  "language_info": {
   "codemirror_mode": {
    "name": "ipython",
    "version": 3
   },
   "file_extension": ".py",
   "mimetype": "text/x-python",
   "name": "python",
   "nbconvert_exporter": "python",
   "pygments_lexer": "ipython3",
   "version": "3.8.3"
  }
 },
 "nbformat": 4,
 "nbformat_minor": 4
}
