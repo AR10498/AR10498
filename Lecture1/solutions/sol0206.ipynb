{
 "cells": [
  {
   "cell_type": "code",
   "execution_count": 1,
   "metadata": {},
   "outputs": [
    {
     "name": "stdout",
     "output_type": "stream",
     "text": [
      "y(2) = 7.48\n",
      "The ball will be at height y=5m at times: t=0.31s and t=2.3s\n"
     ]
    }
   ],
   "source": [
    "### BEGIN SOLUTION\n",
    "g = 9.81   # acceleration due to gravity\n",
    "y_0 = 1.5   # initial height\n",
    "v_0 = 12.8   # initial velocity\n",
    "\n",
    "t = 2\n",
    "\n",
    "answer = y_0 + v_0 * t - 0.5 * g * t**2\n",
    "### END SOLUTION\n",
    "\n",
    "print(\"y(2) =\", answer)\n",
    "\n",
    "y_1 = 5\n",
    "\n",
    "### BEGIN SOLUTION\n",
    "# equation for t\n",
    "# y_1 = y_0 + v_0 * t - 0.5 * g * t**2\n",
    "# equation rearranged\n",
    "# 0.5 * g * t**2 - v_0 * t + y_1 - y_0 = 0\n",
    "\n",
    "a = 0.5 * g\n",
    "b = -v_0\n",
    "c = y_1 - y_0\n",
    "disc = b**2 - 4*a*c\n",
    "t_1 = (-b - disc**0.5)/(2*a)\n",
    "t_2 = (-b + disc**0.5)/(2*a)\n",
    "### END SOLUTION\n",
    "\n",
    "#leave this next line as it is\n",
    "print(f\"The ball will be at height y={y_1}m at times: t={t_1:.2}s and t={t_2:.2}s\")"
   ]
  }
 ],
 "metadata": {
  "kernelspec": {
   "display_name": "Python 3 (ipykernel)",
   "language": "python",
   "name": "python3"
  },
  "language_info": {
   "codemirror_mode": {
    "name": "ipython",
    "version": 3
   },
   "file_extension": ".py",
   "mimetype": "text/x-python",
   "name": "python",
   "nbconvert_exporter": "python",
   "pygments_lexer": "ipython3",
   "version": "3.11.9"
  }
 },
 "nbformat": 4,
 "nbformat_minor": 4
}
