{
 "cells": [
  {
   "cell_type": "code",
   "execution_count": 1,
   "metadata": {},
   "outputs": [
    {
     "name": "stdout",
     "output_type": "stream",
     "text": [
<<<<<<<< HEAD:ProgPy02/solutions/sol0204.ipynb
      "16\n",
      "2.0 -2.0\n"
========
      "[3, 6, 9]\n"
>>>>>>>> c693b72 (Corrections to included files):ProgPy06/solutions/sol0601.ipynb
     ]
    }
   ],
   "source": [
<<<<<<<< HEAD:ProgPy02/solutions/sol0204.ipynb
    "a = 1\n",
    "b = 0\n",
    "c = -4\n",
    "\n",
    "disc = b**2 - 4*a*c\n",
    "print(disc)\n",
    "\n",
    "x1 = (-b + disc**0.5)/(2*a)\n",
    "x2 = (-b - disc**0.5)/(2*a)\n",
    "\n",
    "print(x1, x2)"
========
    "\n",
    "a = list(range(3,10,3))\n",
    "\n",
    "print(a)"
>>>>>>>> c693b72 (Corrections to included files):ProgPy06/solutions/sol0601.ipynb
   ]
  }
 ],
 "metadata": {
  "kernelspec": {
   "display_name": "Python 3",
   "language": "python",
   "name": "python3"
  },
  "language_info": {
   "codemirror_mode": {
    "name": "ipython",
    "version": 3
   },
   "file_extension": ".py",
   "mimetype": "text/x-python",
   "name": "python",
   "nbconvert_exporter": "python",
   "pygments_lexer": "ipython3",
   "version": "3.8.3"
  }
 },
 "nbformat": 4,
 "nbformat_minor": 4
}
