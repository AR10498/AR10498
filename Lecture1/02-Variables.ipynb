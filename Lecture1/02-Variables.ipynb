{
 "cells": [
  {
   "cell_type": "markdown",
   "metadata": {
    "deletable": true,
    "editable": true,
    "nbgrader": {
     "cell_type": "markdown",
     "checksum": "2905f98c20cf67ca707e03448d07f883",
     "grade": false,
     "grade_id": "cell-e16f08659cce93ea",
     "locked": false,
     "schema_version": 3,
     "solution": false,
     "task": false
    }
   },
   "source": [
    "Run all cells marked `In [ ]` using the [$\\blacktriangleright$ Run] button above and **think about the result you see**.\n",
    "Be sure to do all exercises (in blank cells) and run all completed code cells. \n",
    "\n",
    "If anything goes wrong, **restart the kernel** (in the menubar, select Kernel$\\rightarrow$Restart). Or run text cells to get the formatted text back from markdown."
   ]
  },
  {
   "cell_type": "markdown",
   "metadata": {
    "deletable": true,
    "editable": true,
    "nbgrader": {
     "cell_type": "markdown",
     "checksum": "20ed87f59d5261edc30851961107ec8c",
     "grade": false,
     "grade_id": "cell-50b9cb0b3970f0e6",
     "locked": false,
     "schema_version": 3,
     "solution": false,
     "task": false
    }
   },
   "source": [
    "---"
   ]
  },
  {
   "cell_type": "markdown",
   "metadata": {
    "deletable": true,
    "editable": true,
    "nbgrader": {
     "cell_type": "markdown",
     "checksum": "1279f2bff807dda37103958adc5bfb27",
     "grade": false,
     "grade_id": "cell-adb50bcfe6e00655",
     "locked": false,
     "schema_version": 3,
     "solution": false,
     "task": false
    }
   },
   "source": [
    "# Using Variables"
   ]
  },
  {
   "cell_type": "markdown",
   "metadata": {
    "deletable": true,
    "editable": true,
    "nbgrader": {
     "cell_type": "markdown",
     "checksum": "530029eb73a119abff740c3c68c9207a",
     "grade": false,
     "grade_id": "cell-3dafadd2147d4120",
     "locked": false,
     "schema_version": 3,
     "solution": false,
     "task": false
    }
   },
   "source": [
    "## Variables\n",
    "\n",
    "In Python we can give a name to an intermediate result. The values assigned to these symbols can be accessed and changed later.\n",
    "\n",
    "### *Assigning* a value using the **equals operator**: `=`\n",
    "\n",
    "We give a name to a value using an equals sign `=` (called the _\"assignment statement\"_). \n",
    "\n",
    "The name appears on the left hand side of the `=` and the value (or calculation) appears\n",
    "on the right hand side. \n",
    "\n",
    "After a variable is given a value, the value will replace the name **anywhere it is used** in the script _below_ it. "
   ]
  },
  {
   "cell_type": "code",
   "execution_count": null,
   "metadata": {
    "ExecuteTime": {
     "end_time": "2019-02-01T20:54:28.814602Z",
     "start_time": "2019-02-01T20:54:28.81061Z"
    },
    "deletable": true,
    "editable": true,
    "nbgrader": {
     "cell_type": "code",
     "checksum": "b663ef86c7132c2b72b4682a65aadae5",
     "grade": false,
     "grade_id": "cell-394d670dcbcdec36",
     "locked": false,
     "schema_version": 3,
     "solution": false,
     "task": false
    }
   },
   "outputs": [],
   "source": [
    "distance = 45.6  # assignment of a numerical value to a variable name\n",
    "time = 0.5  # another assignment statement\n",
    "print(distance / time)  # Python sees the values assigned to the two names"
   ]
  },
  {
   "cell_type": "markdown",
   "metadata": {
    "deletable": true,
    "editable": true,
    "nbgrader": {
     "cell_type": "markdown",
     "checksum": "46bff96b399272b867b1f285ac53588f",
     "grade": false,
     "grade_id": "cell-7a8919dce853da9f",
     "locked": false,
     "schema_version": 3,
     "solution": false,
     "task": false
    }
   },
   "source": [
    "Names are  called *variables*. \n",
    "\n",
    "\n",
    "Variables can be useful\n",
    "to make a complicated expression more clear. \n",
    "\n",
    "The calculation:"
   ]
  },
  {
   "cell_type": "code",
   "execution_count": null,
   "metadata": {
    "ExecuteTime": {
     "end_time": "2019-02-01T20:54:30.282578Z",
     "start_time": "2019-02-01T20:54:30.267601Z"
    },
    "deletable": true,
    "editable": true,
    "nbgrader": {
     "cell_type": "code",
     "checksum": "3e2c698bfa04f8e18b7a77293057a166",
     "grade": false,
     "grade_id": "cell-c6567b5bc2c35182",
     "locked": false,
     "schema_version": 3,
     "solution": false,
     "task": false
    }
   },
   "outputs": [],
   "source": [
    "((4 * 9.81 * 0.05) / (3 * 0.47) * (2650.0 - 1000.0) / 1000.0) ** 0.5"
   ]
  },
  {
   "cell_type": "markdown",
   "metadata": {
    "deletable": true,
    "editable": true,
    "nbgrader": {
     "cell_type": "markdown",
     "checksum": "8b699d5808d4140a55ff7b9a8099b8f2",
     "grade": false,
     "grade_id": "cell-f773d204ca50f499",
     "locked": false,
     "schema_version": 3,
     "solution": false,
     "task": false
    }
   },
   "source": [
    "can be made a lot clearer by giving names to some of the parameters\n",
    "and intermediate results and by adding comments. \n"
   ]
  },
  {
   "cell_type": "code",
   "execution_count": null,
   "metadata": {
    "ExecuteTime": {
     "end_time": "2019-02-01T20:54:31.679328Z",
     "start_time": "2019-02-01T20:54:31.672329Z"
    },
    "deletable": true,
    "editable": true,
    "nbgrader": {
     "cell_type": "code",
     "checksum": "3a8fb831d54e450846b6142525fea2e0",
     "grade": false,
     "grade_id": "cell-bbd55236447962b2",
     "locked": false,
     "schema_version": 3,
     "solution": false,
     "task": false
    }
   },
   "outputs": [],
   "source": [
    "# Terminal velocity of spherical object\n",
    "\n",
    "g = 9.81  # acceleration due to gravity (m/s^2^)\n",
    "d = 0.05  # object diameter (m)\n",
    "C_d = 0.47  # drag coefficient (1)\n",
    "rho = 1000.0  # fluid density (kg/m^3^)\n",
    "rho_s = 2650.0  # object density (kg/m^3^)\n",
    "geometry_factor = (4 * g * d) / (3 * C_d)\n",
    "buoyancy_factor = (rho_s - rho) / rho\n",
    "V_t = (geometry_factor * buoyancy_factor) ** 0.5\n",
    "\n",
    "print(V_t)"
   ]
  },
  {
   "cell_type": "markdown",
   "metadata": {
    "deletable": true,
    "editable": true,
    "nbgrader": {
     "cell_type": "markdown",
     "checksum": "50a1f97343341cc3e48c5e1a12715b23",
     "grade": false,
     "grade_id": "cell-0f81bc923cf8cc31",
     "locked": false,
     "schema_version": 3,
     "solution": false,
     "task": false
    }
   },
   "source": [
    "This makes it also much\n",
    "easier to make changes or corrections.\n",
    "\n",
    "### Exercise:\n",
    "\n",
    "Let $a = 5$, $b = -1$ and $c=10$.  "
   ]
  },
  {
   "cell_type": "code",
   "execution_count": null,
   "metadata": {
    "deletable": true,
    "nbgrader": {
     "cell_type": "code",
     "checksum": "674ab7a8e4fa2eb21989b160103d1933",
     "grade": false,
     "grade_id": "cell-50b9da9f0ce8dcff",
     "locked": false,
     "points": 0,
     "schema_version": 3,
     "solution": false,
     "task": false
    }
   },
   "outputs": [],
   "source": [
    "# YOUR CODE HERE"
   ]
  },
  {
   "cell_type": "markdown",
   "metadata": {
    "deletable": true,
    "editable": true,
    "nbgrader": {
     "cell_type": "markdown",
     "checksum": "edb4f91abc39234c9afb59563e6f440f",
     "grade": false,
     "grade_id": "cell-2261e8e3b9469bf9",
     "locked": false,
     "schema_version": 3,
     "solution": false,
     "task": false
    }
   },
   "source": [
    "### Evaluate $w$ where:\n",
    "\n",
    "* $w = 3 a - 5 b + 2 c$"
   ]
  },
  {
   "cell_type": "code",
   "execution_count": null,
   "metadata": {
    "deletable": true,
    "nbgrader": {
     "cell_type": "code",
     "checksum": "ddf79fe6c1aa60cdadc792f415a19718",
     "grade": false,
     "grade_id": "cell-6d60c253cbcbed35",
     "locked": false,
     "points": 0,
     "schema_version": 3,
     "solution": false,
     "task": false
    }
   },
   "outputs": [],
   "source": [
    "# set w equal to the mathematical expression\n",
    "\n",
    "# YOUR CODE HERE\n",
    "\n",
    "print(w)"
   ]
  },
  {
   "cell_type": "markdown",
   "metadata": {
    "deletable": true,
    "editable": true,
    "nbgrader": {
     "cell_type": "markdown",
     "checksum": "3def461b198a3f7872b6e08c5fb47361",
     "grade": false,
     "grade_id": "cell-14eff45bfdece926",
     "locked": false,
     "schema_version": 3,
     "solution": false,
     "task": false
    }
   },
   "source": [
    "Expected Result: `40`\n",
    "\n",
    "[Click here for Solution](solutions/sol0201.ipynb)\n",
    "\n",
    "### Evaluate $w$ where:\n",
    "\n",
    "* $\\displaystyle w = \\frac{5 a - 2 b}{4 c + 2 a}$\n",
    "\n",
    "Result: `0.54`"
   ]
  },
  {
   "cell_type": "code",
   "execution_count": null,
   "metadata": {
    "deletable": true,
    "nbgrader": {
     "cell_type": "code",
     "checksum": "5516081a111cdb15288cde0782c3e4bd",
     "grade": false,
     "grade_id": "cell-cfc9f7d1ddcb0694",
     "locked": false,
     "points": 0,
     "schema_version": 3,
     "solution": false,
     "task": false
    }
   },
   "outputs": [],
   "source": [
    "# YOUR CODE HERE\n",
    "\n",
    "print(w)"
   ]
  },
  {
   "cell_type": "markdown",
   "metadata": {
    "deletable": true,
    "editable": true,
    "nbgrader": {
     "cell_type": "markdown",
     "checksum": "dce3c51a30664468ad607d880de2e361",
     "grade": false,
     "grade_id": "cell-d05e4d8db072b4f7",
     "locked": false,
     "schema_version": 3,
     "solution": false,
     "task": false
    }
   },
   "source": [
    "Expected Result: `0.54`\n",
    "\n",
    "[Click here for Solution](solutions/sol0202.ipynb)\n",
    "\n",
    "\n",
    "### Evaluate $w$ where:\n",
    "\n",
    "* $\\displaystyle w = \\sqrt{2 a - b}$\n"
   ]
  },
  {
   "cell_type": "code",
   "execution_count": null,
   "metadata": {
    "deletable": true,
    "nbgrader": {
     "cell_type": "code",
     "checksum": "9fbfe97b7183bfddec67f00c2d1081f6",
     "grade": false,
     "grade_id": "cell-6c618859726f3be5",
     "locked": false,
     "points": 0,
     "schema_version": 3,
     "solution": false,
     "task": false
    }
   },
   "outputs": [],
   "source": [
    "# YOUR CODE HERE\n",
    "\n",
    "print(w)"
   ]
  },
  {
   "cell_type": "markdown",
   "metadata": {
    "deletable": true,
    "editable": true,
    "nbgrader": {
     "cell_type": "markdown",
     "checksum": "7d61376d2f4527a422cd254929bc27af",
     "grade": false,
     "grade_id": "cell-e9081d1c7d7544a7",
     "locked": false,
     "schema_version": 3,
     "solution": false,
     "task": false
    }
   },
   "source": [
    "Expected Result: `3.3166247903554`\n",
    "\n",
    "[Click here for Solution](solutions/sol0203.ipynb)\n",
    "\n",
    "\n",
    "---\n",
    "\n",
    "\n",
    "The word *variable* refers to the fact that we can change what value a name refers to. \n",
    "\n",
    "The same name can be reused for different values. "
   ]
  },
  {
   "cell_type": "code",
   "execution_count": null,
   "metadata": {
    "ExecuteTime": {
     "end_time": "2019-02-01T20:54:34.670456Z",
     "start_time": "2019-02-01T20:54:34.664454Z"
    },
    "deletable": true,
    "editable": true,
    "nbgrader": {
     "cell_type": "code",
     "checksum": "7ab5d138dba406b23959b829ba7a50b3",
     "grade": false,
     "grade_id": "cell-3e7d45cd30ef4f09",
     "locked": false,
     "schema_version": 3,
     "solution": false,
     "task": false
    }
   },
   "outputs": [],
   "source": [
    "a = 0.618\n",
    "print(a)\n",
    "a = 1.618\n",
    "print(a)"
   ]
  },
  {
   "cell_type": "markdown",
   "metadata": {
    "deletable": true,
    "editable": true,
    "nbgrader": {
     "cell_type": "markdown",
     "checksum": "8bed67cb5efe131aff09d7929f9aa664",
     "grade": false,
     "grade_id": "cell-30c7f3a0ff5eae06",
     "locked": false,
     "schema_version": 3,
     "solution": false,
     "task": false
    }
   },
   "source": [
    "### IMPORTANT: Assignment is ***not*** equals!\n",
    "\n",
    "Note that the use of the equals sign can be confusing at first.  \n",
    "The\n",
    "equals sign denotes *assignment* and is **not an equation** in the mathematical\n",
    "sense.  \n",
    "`A = B` takes the rigt hand side (B) and *assigns* it (gives its value) to the variable (A) on the left.\n",
    "\n",
    "#### Notes:\n",
    "\n",
    "* The following example will generate an error message since this not legal Python code."
   ]
  },
  {
   "cell_type": "code",
   "execution_count": null,
   "metadata": {
    "ExecuteTime": {
     "end_time": "2019-02-01T20:54:38.207558Z",
     "start_time": "2019-02-01T20:54:38.20155Z"
    },
    "deletable": true,
    "editable": true,
    "nbgrader": {
     "cell_type": "code",
     "checksum": "6c0f480bc8b4a3f7b58ff1b84f982fcf",
     "grade": false,
     "grade_id": "cell-50a101ecb5c0bdef",
     "locked": false,
     "schema_version": 3,
     "solution": false,
     "task": false
    }
   },
   "outputs": [],
   "source": [
    "2 * 3 = a"
   ]
  },
  {
   "cell_type": "markdown",
   "metadata": {
    "deletable": true,
    "editable": true,
    "nbgrader": {
     "cell_type": "markdown",
     "checksum": "6b7acdbfe7067f5059040b0af66daefe",
     "grade": false,
     "grade_id": "cell-639de714455986ac",
     "locked": false,
     "schema_version": 3,
     "solution": false,
     "task": false
    }
   },
   "source": [
    "* If one variable is assigned to another, it takes its *current value* but they do not remain equal forever:"
   ]
  },
  {
   "cell_type": "code",
   "execution_count": null,
   "metadata": {
    "ExecuteTime": {
     "end_time": "2019-02-01T20:54:57.983498Z",
     "start_time": "2019-02-01T20:54:57.978493Z"
    },
    "deletable": true,
    "editable": true,
    "nbgrader": {
     "cell_type": "code",
     "checksum": "c7eac85a30c54b65faadc50089d34f85",
     "grade": false,
     "grade_id": "cell-bba65c155ca526e5",
     "locked": false,
     "schema_version": 3,
     "solution": false,
     "task": false
    }
   },
   "outputs": [],
   "source": [
    "a = 1  # set a to 1\n",
    "b = a  # b takes the current value of a\n",
    "a = 2  # change the value of a\n",
    "print(a, b)  # note that b does not change"
   ]
  },
  {
   "cell_type": "markdown",
   "metadata": {
    "deletable": true,
    "editable": true,
    "nbgrader": {
     "cell_type": "markdown",
     "checksum": "682500d0d8b869a96ec7753dbd0c3bba",
     "grade": false,
     "grade_id": "cell-3b7d5d34aba7e5cd",
     "locked": false,
     "schema_version": 3,
     "solution": false,
     "task": false
    }
   },
   "source": [
    "* The right hand side (**RHS**) is evaluated *before* assignment to the varible on the left (**LHS**), so the following examples are possible in Python:"
   ]
  },
  {
   "cell_type": "code",
   "execution_count": null,
   "metadata": {
    "deletable": true,
    "editable": true,
    "nbgrader": {
     "cell_type": "code",
     "checksum": "33ac7975b1702fa79a070bc3645171b4",
     "grade": false,
     "grade_id": "cell-851527b514689664",
     "locked": false,
     "schema_version": 3,
     "solution": false,
     "task": false
    }
   },
   "outputs": [],
   "source": [
    "a = 1\n",
    "print(a)"
   ]
  },
  {
   "cell_type": "code",
   "execution_count": null,
   "metadata": {
    "deletable": true,
    "editable": true,
    "nbgrader": {
     "cell_type": "code",
     "checksum": "d6229ae174db95d5a3aac52840fffc6b",
     "grade": false,
     "grade_id": "cell-5f856b96daf5f43c",
     "locked": false,
     "schema_version": 3,
     "solution": false,
     "task": false
    }
   },
   "outputs": [],
   "source": [
    "# take the value of a and add 1 to it, assign this back to `a`\n",
    "a = a + 1\n",
    "print(a)"
   ]
  },
  {
   "cell_type": "code",
   "execution_count": null,
   "metadata": {
    "deletable": true,
    "editable": true,
    "nbgrader": {
     "cell_type": "code",
     "checksum": "774efe95da130d5482eb633f33e4cf77",
     "grade": false,
     "grade_id": "cell-5c4cbdc1c8f5a73b",
     "locked": false,
     "schema_version": 3,
     "solution": false,
     "task": false
    }
   },
   "outputs": [],
   "source": [
    "# multiply the current value of `a` by 2 and overwrite `a`\n",
    "a = 2 * a\n",
    "print(a)"
   ]
  },
  {
   "cell_type": "code",
   "execution_count": null,
   "metadata": {
    "ExecuteTime": {
     "end_time": "2019-02-01T20:54:58.576732Z",
     "start_time": "2019-02-01T20:54:58.570742Z"
    },
    "deletable": true,
    "editable": true,
    "nbgrader": {
     "cell_type": "code",
     "checksum": "ad7b40ddd435273ca109e6b1b3b8139e",
     "grade": false,
     "grade_id": "cell-fc66ee82ef406fb2",
     "locked": false,
     "schema_version": 3,
     "solution": false,
     "task": false
    }
   },
   "outputs": [],
   "source": [
    "# replace the value of the variable `a` with its old value squared\n",
    "a = a**2\n",
    "print(a)"
   ]
  },
  {
   "cell_type": "markdown",
   "metadata": {
    "deletable": true,
    "editable": true,
    "nbgrader": {
     "cell_type": "markdown",
     "checksum": "5c761757bebf2713250fb6dc01b0871c",
     "grade": false,
     "grade_id": "cell-9d4acb90d27d9341",
     "locked": false,
     "schema_version": 3,
     "solution": false,
     "task": false
    }
   },
   "source": [
    "**Note:** \n",
    "in each case the **old value of `a`** is taken and used for the calculation, **before** *replacing* it using the assignment statement (=). "
   ]
  },
  {
   "cell_type": "markdown",
   "metadata": {
    "deletable": true,
    "editable": true,
    "nbgrader": {
     "cell_type": "markdown",
     "checksum": "2772cf30a186065718c5cfea4ca273ce",
     "grade": false,
     "grade_id": "cell-488e309c370a33f6",
     "locked": false,
     "schema_version": 3,
     "solution": false,
     "task": false
    }
   },
   "source": [
    "#### Example: Swapping two values \n",
    "\n",
    "Suppose we have assigned the names `varA` and `varB` to two different\n",
    "values.  \n",
    "To swap the values, we have to\n",
    "use a temporary name to refer to one of the values."
   ]
  },
  {
   "cell_type": "code",
   "execution_count": null,
   "metadata": {
    "ExecuteTime": {
     "end_time": "2019-02-01T20:55:01.279425Z",
     "start_time": "2019-02-01T20:55:01.273418Z"
    },
    "deletable": true,
    "editable": true,
    "nbgrader": {
     "cell_type": "code",
     "checksum": "555037c3d65c5ee1b6a8a1f0902321b9",
     "grade": false,
     "grade_id": "cell-5867aff6138fac5c",
     "locked": false,
     "schema_version": 3,
     "solution": false,
     "task": false
    }
   },
   "outputs": [],
   "source": [
    "varA = 7\n",
    "varB = -99\n",
    "\n",
    "print(varA, varB)\n",
    "\n",
    "tmp = varA\n",
    "varA = varB\n",
    "varB = tmp\n",
    "\n",
    "print(varA, varB)"
   ]
  },
  {
   "cell_type": "markdown",
   "metadata": {
    "deletable": true,
    "editable": true,
    "nbgrader": {
     "cell_type": "markdown",
     "checksum": "17fe029fce119496616189c65ff26ffa",
     "grade": false,
     "grade_id": "cell-2b163377b1085092",
     "locked": false,
     "schema_version": 3,
     "solution": false,
     "task": false
    }
   },
   "source": [
    "### Allowed Variable Names\n",
    "\n",
    "* A valid variable name consists of *letters* (A,a,B,b,...), *digits* (1,2,3,...) and *underscores* ( _ )  \n",
    "but\n",
    " **_cannot_ start with a digit**. \n",
    "* **Spaces are *NOT* allowed** in variable names. \n",
    "* You should not use an underscore at the start of a variable name, since\n",
    "this has a special meaning in Python.\n",
    "* Python is *case-sensitive*, which means that upper and lower case letters are distinct. "
   ]
  },
  {
   "cell_type": "code",
   "execution_count": null,
   "metadata": {
    "ExecuteTime": {
     "end_time": "2019-02-01T20:56:40.606529Z",
     "start_time": "2019-02-01T20:56:40.600539Z"
    },
    "deletable": true,
    "editable": true,
    "nbgrader": {
     "cell_type": "code",
     "checksum": "19324d73840979c2f719065ca4ac105c",
     "grade": false,
     "grade_id": "cell-2de7530ea04243dd",
     "locked": false,
     "schema_version": 3,
     "solution": false,
     "task": false
    }
   },
   "outputs": [],
   "source": [
    "a = 5\n",
    "b2 = a + a\n",
    "quite_a_long_variable_name = 0.1\n",
    "A = 50.0\n",
    "outerRadius = 5.7\n",
    "print(a, b2, quite_a_long_variable_name, A, outerRadius)"
   ]
  },
  {
   "cell_type": "markdown",
   "metadata": {
    "deletable": true,
    "editable": true,
    "nbgrader": {
     "cell_type": "markdown",
     "checksum": "2479d0a2984ac0c9da36ca1094bba16f",
     "grade": false,
     "grade_id": "cell-2afd421d3364172c",
     "locked": false,
     "schema_version": 3,
     "solution": false,
     "task": false
    }
   },
   "source": [
    "### Example: Quadratic Formula\n",
    "\n",
    "The following program finds the solutions of the quadratic equation\n",
    "$a x^2 + b x + c$ using the quadratic formula:\n",
    "$$x = \\frac{-b\\pm\\sqrt{b^2-4ac}}{2a},$$ where $b^2-4ac$ is known as the\n",
    "<span>*discriminant*</span>.  \n",
    "We assume in this example that there are\n",
    "two solutions."
   ]
  },
  {
   "cell_type": "code",
   "execution_count": null,
   "metadata": {
    "ExecuteTime": {
     "end_time": "2019-02-01T20:56:41.518323Z",
     "start_time": "2019-02-01T20:56:41.512334Z"
    },
    "deletable": true,
    "editable": true,
    "nbgrader": {
     "cell_type": "code",
     "checksum": "a47382bde523414edde1c8533649a5e7",
     "grade": false,
     "grade_id": "cell-7c6491276aca505c",
     "locked": false,
     "schema_version": 3,
     "solution": false,
     "task": false
    }
   },
   "outputs": [],
   "source": [
    "# coefficients of the quadratic a*x**2 + b*x + c\n",
    "\n",
    "a = 1.0\n",
    "b = -5.0\n",
    "c = 6.0  # quadratic formula for the equation a*x**2 + b*x + c = 0\n",
    "\n",
    "disc = b**2 - 4 * a * c  # assumed to be positive\n",
    "print(disc)\n",
    "\n",
    "x1 = (-b + disc**0.5) / (2 * a)\n",
    "x2 = (-b - disc**0.5) / (2 * a)\n",
    "\n",
    "print(x1, x2)"
   ]
  },
  {
   "cell_type": "markdown",
   "metadata": {
    "deletable": true,
    "editable": true,
    "nbgrader": {
     "cell_type": "markdown",
     "checksum": "ca89df1a55ae7eb5ded10f6a713ac7cc",
     "grade": false,
     "grade_id": "cell-7d2ea649b88b5c7b",
     "locked": false,
     "schema_version": 3,
     "solution": false,
     "task": false
    }
   },
   "source": [
    "#### Exercise run the quadratic formula program with different coefficients  \n",
    "    \n",
    "1. Use an equations for which you know what the results should be:\n",
    "    * e.g.: $x^2 - 4 = 0$.  "
   ]
  },
  {
   "cell_type": "code",
   "execution_count": null,
   "metadata": {
    "deletable": true,
    "nbgrader": {
     "cell_type": "code",
     "checksum": "2176cf97341d20ff48e37fcb40a1e0d1",
     "grade": false,
     "grade_id": "cell-298bcea54481f74a",
     "locked": false,
     "points": 0,
     "schema_version": 3,
     "solution": false,
     "task": false
    }
   },
   "outputs": [],
   "source": [
    "# YOUR CODE HERE\n",
    "\n",
    "\n",
    "print(x1, x2)"
   ]
  },
  {
   "cell_type": "markdown",
   "metadata": {
    "deletable": true,
    "editable": true,
    "nbgrader": {
     "cell_type": "markdown",
     "checksum": "a87ad05c3cbe574897fdc27053c7a946",
     "grade": false,
     "grade_id": "cell-0828f16fd0480317",
     "locked": false,
     "schema_version": 3,
     "solution": false,
     "task": false
    }
   },
   "source": [
    "[Possible Solution](solutions/sol0204.ipynb)\n",
    "\n",
    "2. Find out what happens when the discriminant is negative."
   ]
  },
  {
   "cell_type": "code",
   "execution_count": null,
   "metadata": {
    "deletable": true,
    "nbgrader": {
     "cell_type": "code",
     "checksum": "57e5ba16e69b7eff8afe19bb23a59e4c",
     "grade": false,
     "grade_id": "cell-400ace63d00e0846",
     "locked": false,
     "points": 0,
     "schema_version": 3,
     "solution": false,
     "task": false
    }
   },
   "outputs": [],
   "source": [
    "# YOUR CODE HERE\n",
    "\n",
    "\n",
    "print(x1, x2)"
   ]
  },
  {
   "cell_type": "markdown",
   "metadata": {
    "deletable": true,
    "editable": true,
    "nbgrader": {
     "cell_type": "markdown",
     "checksum": "a62da2f90a6ebda0dceafba423e0b112",
     "grade": false,
     "grade_id": "cell-5300e6dafd57a0ec",
     "locked": false,
     "schema_version": 3,
     "solution": false,
     "task": false
    }
   },
   "source": [
    "[Possible Solution](solutions/sol0205.ipynb)"
   ]
  },
  {
   "cell_type": "markdown",
   "metadata": {
    "deletable": true,
    "editable": true,
    "nbgrader": {
     "cell_type": "markdown",
     "checksum": "fc6376afed563751d9d4e4d019c374d6",
     "grade": false,
     "grade_id": "cell-3208415b81ced9e7",
     "locked": false,
     "schema_version": 3,
     "solution": false,
     "task": false
    }
   },
   "source": [
    "### Using Built-in Constants\n",
    "\n",
    "Important constants like $\\pi$ and $e$ can be accessed by loading the `math` library using\n",
    "`import`.  \n",
    "The *imaginary number* $i=\\sqrt{-1}$ (called $j$ by electrical engineers) is accessed using `1j`."
   ]
  },
  {
   "cell_type": "code",
   "execution_count": null,
   "metadata": {
    "ExecuteTime": {
     "end_time": "2019-02-01T20:56:45.647725Z",
     "start_time": "2019-02-01T20:56:45.641736Z"
    },
    "deletable": true,
    "editable": true,
    "nbgrader": {
     "cell_type": "code",
     "checksum": "acc26498067a3ab682b8d92ff1c65b0d",
     "grade": false,
     "grade_id": "cell-6792de2cb49e5f5f",
     "locked": false,
     "schema_version": 3,
     "solution": false,
     "task": false
    }
   },
   "outputs": [],
   "source": [
    "from math import e, pi\n",
    "\n",
    "print(pi, e, e ** (1j * pi) + 1)"
   ]
  },
  {
   "cell_type": "markdown",
   "metadata": {
    "deletable": true,
    "editable": true,
    "nbgrader": {
     "cell_type": "markdown",
     "checksum": "848e58e474dbcb1ecaa8b5992eda0b3d",
     "grade": false,
     "grade_id": "cell-47251ee8aa2f6895",
     "locked": false,
     "schema_version": 3,
     "solution": false,
     "task": false
    }
   },
   "source": [
    "* Note that the last result is $1.2\\times10^{-16}i = 0.00000000000000012i\\approx 0$, due to [floating point precision](../ProgPy01/01-Python_Basics.ipynb#Appendix:-A-note-on-floating-point-precision)."
   ]
  },
  {
   "cell_type": "markdown",
   "metadata": {
    "deletable": true,
    "editable": true,
    "nbgrader": {
     "cell_type": "markdown",
     "checksum": "65dbb8e9b350b5a6bed4e799e1ba0f28",
     "grade": false,
     "grade_id": "cell-3ca995a68114fa05",
     "locked": false,
     "schema_version": 3,
     "solution": false,
     "task": false
    }
   },
   "source": [
    "## Strings as Variables \n",
    "\n",
    "Strings of characters (words) in quote marks can also be assigned to variable names, and it important to not\n",
    "confuse the two. For example:"
   ]
  },
  {
   "cell_type": "code",
   "execution_count": null,
   "metadata": {
    "ExecuteTime": {
     "end_time": "2019-02-01T20:56:48.813564Z",
     "start_time": "2019-02-01T20:56:48.809565Z"
    },
    "deletable": true,
    "editable": true,
    "nbgrader": {
     "cell_type": "code",
     "checksum": "2d0ad76e697eb93d9a045a32d5efe4ad",
     "grade": false,
     "grade_id": "cell-a7a86d21a8f33792",
     "locked": false,
     "schema_version": 3,
     "solution": false,
     "task": false
    }
   },
   "outputs": [],
   "source": [
    "word1 = \"Hello World!\"\n",
    "print(\"word1\")\n",
    "print(word1)"
   ]
  },
  {
   "cell_type": "markdown",
   "metadata": {
    "deletable": true,
    "editable": true,
    "nbgrader": {
     "cell_type": "markdown",
     "checksum": "144339c47377dc9ab6e4e11b40102c26",
     "grade": false,
     "grade_id": "cell-4ed44133121d9064",
     "locked": false,
     "schema_version": 3,
     "solution": false,
     "task": false
    }
   },
   "source": [
    "Notice that in the first instance the string `word1` that was enclosed\n",
    "in quotes was \n",
    "print ed and in the second the *string value* `hello`\n",
    "assigned to the variable named `word1` was \n",
    "printed."
   ]
  },
  {
   "cell_type": "markdown",
   "metadata": {
    "deletable": true,
    "editable": true,
    "nbgrader": {
     "cell_type": "markdown",
     "checksum": "8cb8efec7fb6394920d0de973547c483",
     "grade": false,
     "grade_id": "cell-3eb322ccf1490d91",
     "locked": false,
     "schema_version": 3,
     "solution": false,
     "task": false
    }
   },
   "source": [
    "### Formatting Output Values in Strings\n",
    "\n",
    "Integer or floating point\n",
    "numbers can also also be combined with strings in other ways. They can be\n",
    "directly interspersed with text strings by separating them with commas\n",
    "without conversion:"
   ]
  },
  {
   "cell_type": "code",
   "execution_count": null,
   "metadata": {
    "ExecuteTime": {
     "end_time": "2019-02-01T20:56:50.68637Z",
     "start_time": "2019-02-01T20:56:50.681371Z"
    },
    "deletable": true,
    "editable": true,
    "nbgrader": {
     "cell_type": "code",
     "checksum": "53d6893896b0f0090378a1b46d165f64",
     "grade": false,
     "grade_id": "cell-578a428c7b3988be",
     "locked": false,
     "points": 0,
     "schema_version": 3,
     "solution": false,
     "task": false
    }
   },
   "outputs": [],
   "source": [
    "print(\"The answer is\", 40 + 2, \"but not\", \"40\" + \"2\")"
   ]
  },
  {
   "cell_type": "markdown",
   "metadata": {
    "deletable": true,
    "editable": true,
    "nbgrader": {
     "cell_type": "markdown",
     "checksum": "f7b2a435013ba9d12bfb0217d3c9418c",
     "grade": false,
     "grade_id": "cell-e9cc504df2d351cd",
     "locked": false,
     "schema_version": 3,
     "solution": false,
     "task": false
    }
   },
   "source": [
    "Notice that spaces were automatically added in this case.  \n",
    "There are\n",
    "other ways of formatting objects including numbers in text output."
   ]
  },
  {
   "cell_type": "markdown",
   "metadata": {
    "deletable": true,
    "editable": true,
    "nbgrader": {
     "cell_type": "markdown",
     "checksum": "dfa37657624ea30529e6d1ba388011e0",
     "grade": false,
     "grade_id": "cell-bc3d777d5eece297",
     "locked": false,
     "schema_version": 3,
     "solution": false,
     "task": false
    }
   },
   "source": [
    "\n",
    "### Formatted _\"f-strings\"_\n",
    "\n",
    "From Python 3.6 onwards formatted strings or _\"f-strings\"_ can be used in Python:  "
   ]
  },
  {
   "cell_type": "code",
   "execution_count": null,
   "metadata": {
    "deletable": true,
    "editable": true,
    "nbgrader": {
     "cell_type": "code",
     "checksum": "964a19e0e9fbd4971325161e26613d4c",
     "grade": false,
     "grade_id": "cell-8723ddf898d4c081",
     "locked": false,
     "schema_version": 3,
     "solution": false,
     "task": false
    }
   },
   "outputs": [],
   "source": [
    "from math import e, pi\n",
    "\n",
    "a = 42\n",
    "\n",
    "# the first argument is a plain variable name, .3f gives it to 3 decimal (floating point) places, and the third to 3 digits\n",
    "formatted_string = f\"The answer is {a}, the number pi is {pi:.3f} and the base of natural logarithms is {e:.3}.\"\n",
    "\n",
    "print(formatted_string)"
   ]
  },
  {
   "cell_type": "markdown",
   "metadata": {
    "deletable": true,
    "editable": true,
    "nbgrader": {
     "cell_type": "markdown",
     "checksum": "8072d13e02e14d375e37fa5293771dd9",
     "grade": false,
     "grade_id": "cell-fa80f9d861f7b23f",
     "locked": false,
     "schema_version": 3,
     "solution": false,
     "task": false
    }
   },
   "source": [
    "* Note the use of `:.3f` to round to three decimal places and `:.3` for three significant figures.\n",
    "\n",
    "This makes formatting numbers in text very easy. Strings can also be formatted into strings, as the following multi-line string (using three quote marks on either side) shows:"
   ]
  },
  {
   "cell_type": "markdown",
   "metadata": {
    "deletable": true,
    "editable": true,
    "nbgrader": {
     "cell_type": "markdown",
     "checksum": "9cb39e3a563472a7b6c97bea6797c0a1",
     "grade": false,
     "grade_id": "cell-80843bc735e4a388",
     "locked": false,
     "schema_version": 3,
     "solution": false,
     "task": false
    }
   },
   "source": [
    "## Summary "
   ]
  },
  {
   "cell_type": "code",
   "execution_count": null,
   "metadata": {
    "ExecuteTime": {
     "end_time": "2019-02-01T21:00:38.020484Z",
     "start_time": "2019-02-01T21:00:38.0105Z"
    },
    "deletable": true,
    "editable": true,
    "nbgrader": {
     "cell_type": "code",
     "checksum": "f7d7ad0e88e5119e40dd1187dc762c4b",
     "grade": false,
     "grade_id": "cell-20361ff5c6adb848",
     "locked": false,
     "schema_version": 3,
     "solution": false,
     "task": false
    }
   },
   "outputs": [],
   "source": [
    "# a comment is ignored\n",
    "\n",
    "import math  # importing a module\n",
    "\n",
    "-999  # an integer\n",
    "0.0999  # a floating point number\n",
    "1.987e-6  # scientific/engineering notation\n",
    "print(88)  # printing a value\n",
    "print(1, 4, 9)  # printing multiple values\n",
    "print(10 ** (2 * 3) - 1)  # integer arithmetic\n",
    "print(7 / 2)  # integer arithmetic does what you would expect in real life\n",
    "print(7.0 / 2.0)  # floating point arithmetic\n",
    "print(math.pi * 100)  # built-in constant\n",
    "num1 = 44  # assignment statement\n",
    "num2 = 2 * 33\n",
    "print(num1 + num2)"
   ]
  },
  {
   "cell_type": "markdown",
   "metadata": {
    "deletable": true,
    "editable": true,
    "nbgrader": {
     "cell_type": "markdown",
     "checksum": "e7e76cff5a47be6850a5f67a74f4fbb1",
     "grade": false,
     "grade_id": "cell-c8d7673193fbbe96",
     "locked": false,
     "schema_version": 3,
     "solution": false,
     "task": false
    }
   },
   "source": [
    "-   Operations: `+`, `-`, `*`, `/`, `**`, `%`\n",
    "\n",
    "-   Functions: `type`, `int`, `float`, `round`\n",
    "\n",
    "-   Constants: `math.pi`, `math.e`\n",
    "\n",
    "## Pitfalls \n",
    "\n",
    "-   The operation `*` denotes multiplication and cannot be omitted. It\n",
    "    can be helpful to read out a formula.   \n",
    "    E.g., $5 (4 + 2)$ reads as five *times* four plus two.\n",
    "    \n",
    "-   In other programming languages or in in previous Python versions (e.g. Python 2), \n",
    "    the symbol `/` denotes *integer* division.\n",
    "    In them, we have `7/2 => 3`, but `7.0/2 => 3.5` and `7/2.0 => 3.5`.\n",
    "    But this is *not* the case in Python 3.\n",
    "\n",
    "-   Variable names are case-sensitive.\n",
    "\n",
    "-   Do not confuse assignment statements and mathematical equations."
   ]
  },
  {
   "cell_type": "markdown",
   "metadata": {
    "deletable": true,
    "editable": true,
    "nbgrader": {
     "cell_type": "markdown",
     "checksum": "f5160fce3c3b6de3693060b7db657f9e",
     "grade": false,
     "grade_id": "cell-5556ad65f202d260",
     "locked": false,
     "schema_version": 3,
     "solution": false,
     "task": false
    }
   },
   "source": [
    "# Exercise:\n",
    "\n",
    "### Projectile Motion \n",
    "\n",
    "The height of a ball thrown upwards with a velocity $v_0$ is given by\n",
    "$$y = y_0 + v_0 t - \\frac{1}{2} g t^2,$$ where time $t=0$ when the ball\n",
    "is released. The ball is released at height $y_0$. The initial velocity\n",
    "is $v_0$. Position, velocity and acceleration are all measured as\n",
    "positive upwards. Take $y_0 = 1.5$, $v_0 = 12.8$ and $g = 9.81$.\n",
    "\n",
    "-   Use Python to calculate the height of the ball at $t = 2$.\n",
    "\n",
    "-   Use Python to calculate the time $t$ for which $y = 5$.  \n",
    "(Hint: rearrange and use the quadratic formula: $x=\\dfrac{-b\\pm\\sqrt{b^2-4ac}}{2a}$)"
   ]
  },
  {
   "cell_type": "code",
   "execution_count": null,
   "metadata": {
    "deletable": true,
    "nbgrader": {
     "cell_type": "code",
     "checksum": "009a6114ea24d23a75a135c1d72f154f",
     "grade": false,
     "grade_id": "cell-42a726e9ace714fd",
     "locked": false,
     "points": 0,
     "schema_version": 3,
     "solution": false,
     "task": false
    }
   },
   "outputs": [],
   "source": [
    "# YOUR CODE\n",
    "\n",
    "\n",
    "print(\"y(2) =\", answer)\n",
    "\n",
    "y_1 = 5\n",
    "\n",
    "# YOUR CODE\n",
    "\n",
    "\n",
    "# leave this next line as it is\n",
    "print(f\"The ball will be at height y={y_1}m at times: t={t_1:.2}s and t={t_2:.2}s\")"
   ]
  },
  {
   "cell_type": "markdown",
   "metadata": {
    "deletable": true,
    "editable": true,
    "nbgrader": {
     "cell_type": "markdown",
     "checksum": "cf8dc6c9ab4b8a84be6bb84fcdf464ce",
     "grade": false,
     "grade_id": "cell-c8ef47c9035884e5",
     "locked": false,
     "schema_version": 3,
     "solution": false,
     "task": false
    }
   },
   "source": [
    "Expected Result:  \n",
    "```\n",
    "y(2) = 7.48\n",
    "The ball will be at height y=5m at times: t=0.31s and t=2.3s\n",
    "```\n",
    "\n",
    "[Click here for Solution](solutions/sol0206.ipynb)"
   ]
  }
 ],
 "metadata": {
  "hide_input": false,
  "kernelspec": {
   "display_name": "Python 3 (ipykernel)",
   "language": "python",
   "name": "python3"
  },
  "language_info": {
   "codemirror_mode": {
    "name": "ipython",
    "version": 3
   },
   "file_extension": ".py",
   "mimetype": "text/x-python",
   "name": "python",
   "nbconvert_exporter": "python",
   "pygments_lexer": "ipython3",
   "version": "3.11.9"
  },
  "toc": {
   "base_numbering": 1,
   "nav_menu": {},
   "number_sections": true,
   "sideBar": true,
   "skip_h1_title": false,
   "title_cell": "Table of Contents",
   "title_sidebar": "Contents",
   "toc_cell": false,
   "toc_position": {},
   "toc_section_display": true,
   "toc_window_display": false
  }
 },
 "nbformat": 4,
 "nbformat_minor": 1
}
