{
 "cells": [
  {
   "cell_type": "markdown",
   "metadata": {
    "deletable": false,
    "editable": false,
    "nbgrader": {
     "cell_type": "markdown",
     "checksum": "2905f98c20cf67ca707e03448d07f883",
     "grade": false,
     "grade_id": "cell-e16f08659cce93ea",
     "locked": true,
     "schema_version": 3,
     "solution": false,
     "task": false
    }
   },
   "source": [
    "Run all cells marked `In [ ]` using the [$\\blacktriangleright$ Run] button above and **think about the result you see**.\n",
    "Be sure to do all exercises (in blank cells) and run all completed code cells. \n",
    "\n",
    "If anything goes wrong, **restart the kernel** (in the menubar, select Kernel$\\rightarrow$Restart). Or run text cells to get the formatted text back from markdown."
   ]
  },
  {
   "cell_type": "markdown",
   "metadata": {
    "deletable": false,
    "editable": false,
    "nbgrader": {
     "cell_type": "markdown",
     "checksum": "20ed87f59d5261edc30851961107ec8c",
     "grade": false,
     "grade_id": "cell-50b9cb0b3970f0e6",
     "locked": true,
     "schema_version": 3,
     "solution": false,
     "task": false
    }
   },
   "source": [
    "---"
   ]
  },
  {
   "cell_type": "markdown",
   "metadata": {
    "deletable": false,
    "editable": false,
    "nbgrader": {
     "cell_type": "markdown",
     "checksum": "f68750a16fd94fbd845060a01d56ee51",
     "grade": false,
     "grade_id": "cell-03dbcf766c127e15",
     "locked": true,
     "schema_version": 3,
     "solution": false,
     "task": false
    }
   },
   "source": [
    "# Numerical Arrays\n",
    "\n",
    "You have now seen the basic Python language (_\"syntax\"_) and programming methods.  \n",
    "These basic building blocks can be built-up to construct advanced programs for things such as:\n",
    "* solving the equations for engineering problems;\n",
    "* simulating the behaviour of constructions and other designs;\n",
    "* optimising structures, energy flows or other problems;\n",
    "* analysing data from measurements in order to present the results.\n",
    "\n",
    "\n",
    "## General advice on independent learning:\n",
    "\n",
    "New functions new methods of manipulating data will be introduced as they are needed.\n",
    "* **Keep a file or notebook** to make a note of the most useful functions and methods for you to look up when you need them, as it is impossible to remember everything.\n",
    "* For things you use less frequently **look them up on the internet** or in the manuals by searching for what you want to do and the keywords \"Python\" or \"NumPy\" along with any other snippets you remember. \n",
    "    * Most programmers consult the online guides frequently.\n",
    "\n",
    "## Importing Modules and Accessing Attributes\n",
    "\n",
    "In order to manipulate numerical data effectively we need to use a new data type called a numerical `array`.  \n",
    "These can be used more mathematically than lists and behave a little differently.  \n",
    "\n",
    "Arrays and plotting functions are imported from external libraries, in the same way we have already seen for the `math` library."
   ]
  },
  {
   "cell_type": "markdown",
   "metadata": {
    "deletable": false,
    "editable": false,
    "nbgrader": {
     "cell_type": "markdown",
     "checksum": "3f04e4afefaab4712d2f3dfe701807bb",
     "grade": false,
     "grade_id": "cell-41595c4964496589",
     "locked": true,
     "schema_version": 3,
     "solution": false,
     "task": false
    }
   },
   "source": [
    "## Numpy and Numerical Arrays\n",
    "\n",
    "Lists are useful but it can be fiddly to perform mathematical operations for each element, e.g.::\n",
    "\n",
    "```python \n",
    "b = [3*sin(x)**2+10 for x in a]\n",
    "```\n",
    "\n",
    "Also multiplying a list by a number is interpreted as adding the list to itself that number of times:\n",
    "\n",
    "```python\n",
    "alist = [1, 2, 3]\n",
    "print(alist+alist)\n",
    "print(alist*3)\n",
    "```\n",
    "> Output:\n",
    "```\n",
    "[1, 2, 3, 1, 2, 3]\n",
    "[1, 2, 3, 1, 2, 3, 1, 2, 3]\n",
    "```\n",
    "\n",
    "\n",
    "Another data type can be imported with the Numerical Python (NumPy) module that behave in a more mathematically logical way.  \n",
    "\n",
    "### Numpy\n",
    "\n",
    "NumPy is a Python library that provides efficient operation on arrays of data.  \n",
    "NumPy stores data in what are called *numerical arrays*, along with many functions for generating and methods for manipulating them.\n",
    "\n",
    "It is usually imported using the alias `np`:\n",
    "```python\n",
    "import numpy as np\n",
    "```\n",
    "You can then get help by using the `help(MODULE.THING)` command, for example type:\n",
    "```python\n",
    "help(np.random)\n",
    "```\n",
    "To see the help manual on the `random` functions in NumPy.  "
   ]
  },
  {
   "cell_type": "markdown",
   "metadata": {
    "deletable": false,
    "editable": false,
    "nbgrader": {
     "cell_type": "markdown",
     "checksum": "e9f26edcf0a04e8dd7ef1afe6e832f72",
     "grade": false,
     "grade_id": "cell-dfb8f9abd37623bc",
     "locked": true,
     "schema_version": 3,
     "solution": false,
     "task": false
    }
   },
   "source": [
    "### Converting Lists to Arrays"
   ]
  },
  {
   "cell_type": "markdown",
   "metadata": {
    "deletable": false,
    "editable": false,
    "nbgrader": {
     "cell_type": "markdown",
     "checksum": "d27b6c841ea150c18e2a1938e80ad355",
     "grade": false,
     "grade_id": "cell-707b5702453376c2",
     "locked": true,
     "schema_version": 3,
     "solution": false,
     "task": false
    }
   },
   "source": [
    "An array *looks* like a `list` but it is a NumPy N-Dimensional Array (in this case 1D).  \n",
    "\n",
    "NumPy arrays have element-by-element (_elementwise_) operations, which is more logical mathematically:"
   ]
  },
  {
   "cell_type": "code",
   "execution_count": 1,
   "metadata": {
    "ExecuteTime": {
     "end_time": "2019-02-01T21:55:03.121091Z",
     "start_time": "2019-02-01T21:55:03.114096Z"
    },
    "deletable": false,
    "editable": false,
    "nbgrader": {
     "cell_type": "code",
     "checksum": "971f993242e1693f3433e437065aa1cf",
     "grade": false,
     "grade_id": "cell-960fbea6017aecf8",
     "locked": true,
     "schema_version": 3,
     "solution": false,
     "task": false
    }
   },
   "outputs": [
    {
     "name": "stdout",
     "output_type": "stream",
     "text": [
      "[2 4 6 8]\n",
      "[ 1  4  9 16]\n",
      "[ 1  8 27 64]\n"
     ]
    }
   ],
   "source": [
    "import numpy as np\n",
    "\n",
    "alist = [1, 2, 3, 4]\n",
    "ary = np.array(alist)\n",
    "\n",
    "print(ary+ary)\n",
    "print(ary*ary)\n",
    "print(ary**3)"
   ]
  },
  {
   "cell_type": "markdown",
   "metadata": {
    "deletable": false,
    "editable": false,
    "nbgrader": {
     "cell_type": "markdown",
     "checksum": "6e5d5081041fd706c704204601585622",
     "grade": false,
     "grade_id": "cell-d9afd76737c43454",
     "locked": true,
     "schema_version": 3,
     "solution": false,
     "task": false
    }
   },
   "source": [
    "Plotting can be done on arrays the same as with lists:"
   ]
  },
  {
   "cell_type": "markdown",
   "metadata": {
    "deletable": false,
    "editable": false,
    "nbgrader": {
     "cell_type": "markdown",
     "checksum": "47e53227697f059c4ef75cbf638b135c",
     "grade": false,
     "grade_id": "cell-2af8b62539de9751",
     "locked": true,
     "schema_version": 3,
     "solution": false,
     "task": false
    }
   },
   "source": [
    "* NumPy also contains functions that can act directly on all the elements of an array (unlike those in the `math` library`)\n",
    "\n",
    "### Generating Arrays with `arange()`\n",
    "\n",
    "NumPy can generate arrays directly using the function `arange()`:"
   ]
  },
  {
   "cell_type": "code",
   "execution_count": 2,
   "metadata": {
    "ExecuteTime": {
     "end_time": "2019-02-01T21:55:04.076447Z",
     "start_time": "2019-02-01T21:55:04.07144Z"
    },
    "deletable": false,
    "editable": false,
    "nbgrader": {
     "cell_type": "code",
     "checksum": "8ad944481a4645d458e47260bfc07e05",
     "grade": false,
     "grade_id": "cell-f806489407aa112f",
     "locked": true,
     "schema_version": 3,
     "solution": false,
     "task": false
    }
   },
   "outputs": [
    {
     "name": "stdout",
     "output_type": "stream",
     "text": [
      "[1 2 3 4 5 6 7]\n",
      "[ 1  4  9 16 25 36 49]\n"
     ]
    }
   ],
   "source": [
    "import numpy as np\n",
    "\n",
    "a = np.arange(1, 8)\n",
    "print(a)\n",
    "print(a**2)"
   ]
  },
  {
   "cell_type": "markdown",
   "metadata": {
    "deletable": false,
    "editable": false,
    "nbgrader": {
     "cell_type": "markdown",
     "checksum": "0834f3e18eaf979c1909a4dfdce531ce",
     "grade": false,
     "grade_id": "cell-93e561592cd78245",
     "locked": true,
     "schema_version": 3,
     "solution": false,
     "task": false
    }
   },
   "source": [
    "The `arange` function can also use fractional values \n",
    "\n",
    "The syntax is `range(VAR1,VAR2,STEP)`, where the  values created are those between `VAR1` and `VAR2`, including `VAR1` but not `VAR2`:"
   ]
  },
  {
   "cell_type": "code",
   "execution_count": 3,
   "metadata": {
    "ExecuteTime": {
     "end_time": "2019-02-01T21:55:04.688619Z",
     "start_time": "2019-02-01T21:55:04.681626Z"
    },
    "deletable": false,
    "editable": false,
    "nbgrader": {
     "cell_type": "code",
     "checksum": "6d160271029ec304b59c66fec36cf73e",
     "grade": false,
     "grade_id": "cell-fc2c34df79fa2f58",
     "locked": true,
     "schema_version": 3,
     "solution": false,
     "task": false
    }
   },
   "outputs": [
    {
     "name": "stdout",
     "output_type": "stream",
     "text": [
      "[-1.  -0.5  0.   0.5]\n"
     ]
    }
   ],
   "source": [
    "import numpy as np\n",
    "\n",
    "a = np.arange(-1, 1, 0.5)\n",
    "\n",
    "print(a)"
   ]
  },
  {
   "cell_type": "markdown",
   "metadata": {
    "deletable": false,
    "editable": false,
    "nbgrader": {
     "cell_type": "markdown",
     "checksum": "78714f6f995553daf1936373f9ec0fd3",
     "grade": false,
     "grade_id": "cell-53fbd9146367260a",
     "locked": true,
     "schema_version": 3,
     "solution": false,
     "task": false
    }
   },
   "source": [
    "**Note:** the second  value is not included in the array, so to get around this the value needs to be slightly above the required end-point.\n",
    "\n",
    "#### Exercise: Create an array that goes from `-2` to `2` in steps of `0.2` and _includes_ the numbers `-2`, `0` and `2`"
   ]
  },
  {
   "cell_type": "code",
   "execution_count": 5,
   "metadata": {
    "deletable": false,
    "nbgrader": {
     "cell_type": "code",
     "checksum": "2ee25440fd06e8981800817bea7ae09a",
     "grade": false,
     "grade_id": "cell-c2a15f66cd74eb60",
     "locked": false,
     "points": 0,
     "schema_version": 3,
     "solution": false,
     "task": false
    }
   },
   "outputs": [
    {
     "name": "stdout",
     "output_type": "stream",
     "text": [
      "[-2.0000000e+00 -1.8000000e+00 -1.6000000e+00 -1.4000000e+00\n",
      " -1.2000000e+00 -1.0000000e+00 -8.0000000e-01 -6.0000000e-01\n",
      " -4.0000000e-01 -2.0000000e-01 -4.4408921e-16  2.0000000e-01\n",
      "  4.0000000e-01  6.0000000e-01  8.0000000e-01  1.0000000e+00\n",
      "  1.2000000e+00  1.4000000e+00  1.6000000e+00  1.8000000e+00\n",
      "  2.0000000e+00]\n"
     ]
    }
   ],
   "source": [
    "# YOUR CODE HERE\n"
   ]
  },
  {
   "cell_type": "markdown",
   "metadata": {},
   "source": [
    "Expected result:\n",
    "```\n",
    "[-2.0000000e+00 -1.8000000e+00 -1.6000000e+00 -1.4000000e+00\n",
    " -1.2000000e+00 -1.0000000e+00 -8.0000000e-01 -6.0000000e-01\n",
    " -4.0000000e-01 -2.0000000e-01 -4.4408921e-16  2.0000000e-01\n",
    "  4.0000000e-01  6.0000000e-01  8.0000000e-01  1.0000000e+00\n",
    "  1.2000000e+00  1.4000000e+00  1.6000000e+00  1.8000000e+00\n",
    "  2.0000000e+00]\n",
    "```"
   ]
  },
  {
   "cell_type": "markdown",
   "metadata": {
    "deletable": false,
    "editable": false,
    "nbgrader": {
     "cell_type": "markdown",
     "checksum": "339d92d50fe2749fbfe8d928c8452c97",
     "grade": false,
     "grade_id": "cell-536535b939231f2b",
     "locked": true,
     "schema_version": 3,
     "solution": false,
     "task": false
    }
   },
   "source": [
    "**Note:** Sometimes the `arange` function returns the values in scientific notation, as above.\n",
    "\n",
    "This is due to the central value being _very close_ to zero but not quite (due to precision accuracy).\n",
    "\n",
    "One solution to this is to use the `.round()` function method built in to arrays:"
   ]
  },
  {
   "cell_type": "code",
   "execution_count": 6,
   "metadata": {
    "ExecuteTime": {
     "end_time": "2019-02-01T21:55:05.278489Z",
     "start_time": "2019-02-01T21:55:05.27248Z"
    },
    "deletable": false,
    "editable": false,
    "nbgrader": {
     "cell_type": "code",
     "checksum": "85b162255fe02e056e7294b1eda38c73",
     "grade": false,
     "grade_id": "cell-deb1671b4e7b87fb",
     "locked": true,
     "schema_version": 3,
     "solution": false,
     "task": false
    }
   },
   "outputs": [
    {
     "name": "stdout",
     "output_type": "stream",
     "text": [
      "[-2.  -1.8 -1.6 -1.4 -1.2 -1.  -0.8 -0.6 -0.4 -0.2 -0.   0.2  0.4  0.6\n",
      "  0.8  1.   1.2  1.4  1.6  1.8  2. ]\n"
     ]
    }
   ],
   "source": [
    "import numpy as np\n",
    "a = np.arange(-2, 2.1, 0.2)\n",
    "\n",
    "print(a.round(1))"
   ]
  },
  {
   "cell_type": "markdown",
   "metadata": {
    "deletable": false,
    "editable": false,
    "nbgrader": {
     "cell_type": "markdown",
     "checksum": "c05fb2a39546f3e9fcb49755d4c8809a",
     "grade": false,
     "grade_id": "cell-276d52864fdbe7a7",
     "locked": true,
     "schema_version": 3,
     "solution": false,
     "task": false
    }
   },
   "source": [
    "### Generating Arrays with `linspace()`\n",
    "\n",
    "The `arange` function is useful when we want an array of numbers with a fixed spacing.\n",
    "However, in some applications we might want an array that starts and ends at fixed values but has a certain *number* of steps in between.\n",
    "\n",
    "For this we can use the `linspace` function from NumPy, which stands for *\"linear spacing\"*.  \n",
    "Type `help(np.linspace)` to read more about it:"
   ]
  },
  {
   "cell_type": "code",
   "execution_count": 7,
   "metadata": {
    "ExecuteTime": {
     "end_time": "2019-02-01T21:55:06.894917Z",
     "start_time": "2019-02-01T21:55:06.887908Z"
    },
    "deletable": false,
    "editable": false,
    "nbgrader": {
     "cell_type": "code",
     "checksum": "2980c8504418d76f7449b4bde22f7017",
     "grade": false,
     "grade_id": "cell-faa55980fe39901a",
     "locked": true,
     "schema_version": 3,
     "solution": false,
     "task": false
    }
   },
   "outputs": [
    {
     "name": "stdout",
     "output_type": "stream",
     "text": [
      "[-3.14159265 -1.57079633  0.          1.57079633  3.14159265]\n"
     ]
    }
   ],
   "source": [
    "import numpy as np\n",
    "pi = np.pi\n",
    "\n",
    "a = np.linspace(-pi, pi, 5)\n",
    "print(a)"
   ]
  },
  {
   "cell_type": "markdown",
   "metadata": {
    "deletable": false,
    "editable": false,
    "nbgrader": {
     "cell_type": "markdown",
     "checksum": "035d5ac03e4549835dedd756e5b1071e",
     "grade": false,
     "grade_id": "cell-c8de8c93e69da33f",
     "locked": true,
     "schema_version": 3,
     "solution": false,
     "task": false
    }
   },
   "source": [
    "\n",
    "This has returned 5 values in total, including **both** the start value $-\\pi$ and end value $\\pi$.  \n",
    "That is, with `x=linspace(a,b,n)` $a \\leq x \\leq b$ (unlike with `x=arange(a,b,dx)` where $a \\leq x < b$).  \n",
    "\n",
    "Both `linspace` and the previous `arange` function are very useful when plotting mathematical functions."
   ]
  },
  {
   "cell_type": "markdown",
   "metadata": {
    "deletable": false,
    "editable": false,
    "nbgrader": {
     "cell_type": "markdown",
     "checksum": "550610ad539a293f9b7d7d271ce00d6f",
     "grade": false,
     "grade_id": "cell-2cb860e0c6b10117",
     "locked": true,
     "schema_version": 3,
     "solution": false,
     "task": false
    }
   },
   "source": [
    "## 2D Arrays and Numpy N-D arrays\n",
    "\n",
    "[http://docs.scipy.org/doc/numpy/reference/arrays.ndarray.html](http://docs.scipy.org/doc/numpy/reference/arrays.ndarray.html)\n",
    "\n",
    "There are various ways to create an array, including converting from a *list*, entering all the values by hand, or generating large arrays using special functions and loops. We can also change the individual values in arrays.\n",
    "\n",
    "Study the following examples and practice changing things and looking at the outputs to understand how things work.\n",
    "\n",
    "### Converting from a list to an array\n",
    "\n",
    "If we have all the values in a (nested) list it can be converted to a numerical array:"
   ]
  },
  {
   "cell_type": "code",
   "execution_count": 8,
   "metadata": {
    "deletable": false,
    "editable": false,
    "nbgrader": {
     "cell_type": "code",
     "checksum": "afaea77fa304efbcec3ce654e5a47d4b",
     "grade": false,
     "grade_id": "cell-ba42e43d5ec5d493",
     "locked": true,
     "schema_version": 3,
     "solution": false,
     "task": false
    }
   },
   "outputs": [
    {
     "name": "stdout",
     "output_type": "stream",
     "text": [
      "[[1 2 3]\n",
      " [4 5 6]\n",
      " [7 8 9]]\n"
     ]
    }
   ],
   "source": [
    "import numpy as np\n",
    "\n",
    "mylist = [[1,2,3],[4,5,6],[7,8,9]]\n",
    "\n",
    "myarray = np.array(mylist)\n",
    "\n",
    "print(myarray)"
   ]
  },
  {
   "cell_type": "markdown",
   "metadata": {
    "deletable": false,
    "editable": false,
    "nbgrader": {
     "cell_type": "markdown",
     "checksum": "f1d2639596ce1855d99f0598f7ca2491",
     "grade": false,
     "grade_id": "cell-6ab084e2d79e5760",
     "locked": true,
     "schema_version": 3,
     "solution": false,
     "task": false
    }
   },
   "source": [
    "An array has a *dimension* and a *shape*:"
   ]
  },
  {
   "cell_type": "code",
   "execution_count": 9,
   "metadata": {
    "deletable": false,
    "editable": false,
    "nbgrader": {
     "cell_type": "code",
     "checksum": "0719c2447154e0a8bb1db7eeebef213a",
     "grade": false,
     "grade_id": "cell-e00e43b1ce73e32a",
     "locked": true,
     "schema_version": 3,
     "solution": false,
     "task": false
    }
   },
   "outputs": [
    {
     "name": "stdout",
     "output_type": "stream",
     "text": [
      "2\n",
      "(3, 3)\n"
     ]
    }
   ],
   "source": [
    "print(myarray.ndim)\n",
    "print(myarray.shape)"
   ]
  },
  {
   "cell_type": "markdown",
   "metadata": {
    "deletable": false,
    "editable": false,
    "nbgrader": {
     "cell_type": "markdown",
     "checksum": "398238361e164219f042dc3e488c2d39",
     "grade": false,
     "grade_id": "cell-ef9f882a2519c1bf",
     "locked": true,
     "schema_version": 3,
     "solution": false,
     "task": false
    }
   },
   "source": [
    "This means it is a 2 dimensional array, with 3 rows and 3 columns."
   ]
  },
  {
   "cell_type": "markdown",
   "metadata": {
    "deletable": false,
    "editable": false,
    "nbgrader": {
     "cell_type": "markdown",
     "checksum": "78f7d3218f1642254612cfc09ab64723",
     "grade": false,
     "grade_id": "cell-940d4cd5e3a6d1d7",
     "locked": true,
     "schema_version": 3,
     "solution": false,
     "task": false
    }
   },
   "source": [
    "### Accessing array values by index\n",
    "\n",
    "We can also access the elements of *square arrays* using indexing: `arrayname[row,col]`, where the variables `row` and `col` are replaced by the values of the row and column number we want to access."
   ]
  },
  {
   "cell_type": "code",
   "execution_count": 10,
   "metadata": {
    "deletable": false,
    "editable": false,
    "nbgrader": {
     "cell_type": "code",
     "checksum": "f3df902d6ea8a58d1e4cc32b54f4411e",
     "grade": false,
     "grade_id": "cell-90f85d0b298cb04e",
     "locked": true,
     "schema_version": 3,
     "solution": false,
     "task": false
    }
   },
   "outputs": [
    {
     "name": "stdout",
     "output_type": "stream",
     "text": [
      "3\n"
     ]
    }
   ],
   "source": [
    "print(myarray[0, 2])"
   ]
  },
  {
   "cell_type": "markdown",
   "metadata": {
    "deletable": false,
    "editable": false,
    "nbgrader": {
     "cell_type": "markdown",
     "checksum": "b8fb75cece5fdc1e3ec8c54e833870c1",
     "grade": false,
     "grade_id": "cell-46dd106b20119ae4",
     "locked": true,
     "schema_version": 3,
     "solution": false,
     "task": false
    }
   },
   "source": [
    "Print the middle number in the block (5)."
   ]
  },
  {
   "cell_type": "code",
   "execution_count": null,
   "metadata": {
    "deletable": false,
    "nbgrader": {
     "cell_type": "code",
     "checksum": "8d7c36ae9e8cdfa8e9685d028edb4d58",
     "grade": false,
     "grade_id": "cell-8b2f1d1b0c005b8d",
     "locked": false,
     "points": 0,
     "schema_version": 3,
     "solution": false,
     "task": false
    }
   },
   "outputs": [],
   "source": [
    "# myarray[?, ?]\n",
    "# YOUR CODE HERE\n"
   ]
  },
  {
   "cell_type": "markdown",
   "metadata": {
    "deletable": false,
    "editable": false,
    "nbgrader": {
     "cell_type": "markdown",
     "checksum": "21c00be65627111028d2764416a0349c",
     "grade": false,
     "grade_id": "cell-a7ebc21c4751b301",
     "locked": true,
     "schema_version": 3,
     "solution": false,
     "task": false
    }
   },
   "source": [
    "Print the last number in the block (9)"
   ]
  },
  {
   "cell_type": "code",
   "execution_count": null,
   "metadata": {
    "deletable": false,
    "nbgrader": {
     "cell_type": "code",
     "checksum": "eeabe2d258c53d57cd4e84f8c223fdbf",
     "grade": false,
     "grade_id": "cell-f84be548457fdc6c",
     "locked": false,
     "points": 0,
     "schema_version": 3,
     "solution": false,
     "task": false
    }
   },
   "outputs": [],
   "source": [
    "# YOUR CODE HERE\n"
   ]
  },
  {
   "cell_type": "markdown",
   "metadata": {
    "deletable": false,
    "editable": false,
    "nbgrader": {
     "cell_type": "markdown",
     "checksum": "b212b212e9427b8142fac643e9259d2d",
     "grade": false,
     "grade_id": "cell-75e1bac9353ade7d",
     "locked": true,
     "schema_version": 3,
     "solution": false,
     "task": false
    }
   },
   "source": [
    "To change a value"
   ]
  },
  {
   "cell_type": "code",
   "execution_count": null,
   "metadata": {
    "deletable": false,
    "editable": false,
    "nbgrader": {
     "cell_type": "code",
     "checksum": "fb538cc4dabe212dba902a736aa9f8f3",
     "grade": false,
     "grade_id": "cell-a60f2e5349d14c95",
     "locked": true,
     "schema_version": 3,
     "solution": false,
     "task": false
    }
   },
   "outputs": [],
   "source": [
    "myarray[1, 1] = 111\n",
    "\n",
    "print(myarray)"
   ]
  },
  {
   "cell_type": "markdown",
   "metadata": {
    "deletable": false,
    "editable": false,
    "nbgrader": {
     "cell_type": "markdown",
     "checksum": "9432c19a705d6d182056f4ee736ffa03",
     "grade": false,
     "grade_id": "cell-17afc9858aab1eeb",
     "locked": true,
     "schema_version": 3,
     "solution": false,
     "task": false
    }
   },
   "source": [
    "### Manipulating numerical arrays\n",
    "\n",
    "[http://docs.scipy.org/doc/numpy/reference/routines.array-manipulation.html](http://docs.scipy.org/doc/numpy/reference/routines.array-manipulation.html)"
   ]
  },
  {
   "cell_type": "markdown",
   "metadata": {
    "deletable": false,
    "editable": false,
    "nbgrader": {
     "cell_type": "markdown",
     "checksum": "6675aa864f379ff193c92b1b14c0127a",
     "grade": false,
     "grade_id": "cell-ac9af30f87d30512",
     "locked": true,
     "schema_version": 3,
     "solution": false,
     "task": false
    }
   },
   "source": [
    "### Generating Arrays using Special Functions\n"
   ]
  },
  {
   "cell_type": "code",
   "execution_count": 11,
   "metadata": {
    "deletable": false,
    "editable": false,
    "nbgrader": {
     "cell_type": "code",
     "checksum": "64d614ede0bf914c3da5606db358f982",
     "grade": false,
     "grade_id": "cell-9a9be377292f0439",
     "locked": true,
     "schema_version": 3,
     "solution": false,
     "task": false
    }
   },
   "outputs": [
    {
     "name": "stdout",
     "output_type": "stream",
     "text": [
      "[[0. 0. 0. 0. 0. 0. 0.]\n",
      " [0. 0. 0. 0. 0. 0. 0.]\n",
      " [0. 0. 0. 0. 0. 0. 0.]\n",
      " [0. 0. 0. 0. 0. 0. 0.]\n",
      " [0. 0. 0. 0. 0. 0. 0.]]\n"
     ]
    }
   ],
   "source": [
    "nrows = 5\n",
    "ncols = 7\n",
    "dimensions = (nrows, ncols)\n",
    "myzeros = np.zeros(dimensions)\n",
    "print(myzeros)"
   ]
  },
  {
   "cell_type": "markdown",
   "metadata": {
    "deletable": false,
    "editable": false,
    "nbgrader": {
     "cell_type": "markdown",
     "checksum": "149417fe5e575655bf70e7a973cfe6d5",
     "grade": false,
     "grade_id": "cell-9146e3a497b8fd98",
     "locked": true,
     "schema_version": 3,
     "solution": false,
     "task": false
    }
   },
   "source": [
    "Try using different numbers for the parameters in these functions to see what happens."
   ]
  },
  {
   "cell_type": "code",
   "execution_count": 12,
   "metadata": {
    "deletable": false,
    "editable": false,
    "nbgrader": {
     "cell_type": "code",
     "checksum": "df35ddf9e7c7ad99ae4239117e3c68cd",
     "grade": false,
     "grade_id": "cell-afb51b127ae9e05b",
     "locked": true,
     "schema_version": 3,
     "solution": false,
     "task": false
    }
   },
   "outputs": [
    {
     "name": "stdout",
     "output_type": "stream",
     "text": [
      "[[1. 1. 1. 1. 1.]\n",
      " [1. 1. 1. 1. 1.]\n",
      " [1. 1. 1. 1. 1.]]\n"
     ]
    }
   ],
   "source": [
    "myones = np.ones((3,5))\n",
    "print(myones)"
   ]
  },
  {
   "cell_type": "code",
   "execution_count": null,
   "metadata": {
    "deletable": false,
    "editable": false,
    "nbgrader": {
     "cell_type": "code",
     "checksum": "8755ce2e9bb53abfafe33e139651d5f4",
     "grade": false,
     "grade_id": "cell-6bf05d4c6ae33908",
     "locked": true,
     "schema_version": 3,
     "solution": false,
     "task": false
    }
   },
   "outputs": [],
   "source": [
    "from numpy.random import random\n",
    "dims = (5, 2)\n",
    "rands = random(dims)\n",
    "randr = rands.round(2)\n",
    "print(randr)"
   ]
  },
  {
   "cell_type": "markdown",
   "metadata": {
    "deletable": false,
    "editable": false,
    "nbgrader": {
     "cell_type": "markdown",
     "checksum": "4e7047c6c91ba9bdda0c36e712d66bc4",
     "grade": false,
     "grade_id": "cell-b895c36129d73039",
     "locked": true,
     "schema_version": 3,
     "solution": false,
     "task": false
    }
   },
   "source": [
    "Shorthand notation can also be used:\n",
    "```python\n",
    "myzeros = np.zeros((nrows,ncols))\n",
    "```"
   ]
  },
  {
   "cell_type": "markdown",
   "metadata": {
    "deletable": false,
    "editable": false,
    "nbgrader": {
     "cell_type": "markdown",
     "checksum": "95c9890bd5d715b3cce075c1454ac796",
     "grade": false,
     "grade_id": "cell-e2ac689d3b5d7e60",
     "locked": true,
     "schema_version": 3,
     "solution": false,
     "task": false
    }
   },
   "source": [
    "We can take *slices* of an array using the notation `arrayname[ROWSLICE, COLSLICE]`, where `ROWSLICE` and `COLSLICE` use the same slicing rules `STARTAT:ENDBEFORE` as seen in previous sections. \n",
    "\n",
    "For example we can slice off a single row or column:"
   ]
  },
  {
   "cell_type": "markdown",
   "metadata": {
    "deletable": false,
    "editable": false,
    "nbgrader": {
     "cell_type": "markdown",
     "checksum": "272ea65a6c5c74d0eb4d748ea891512d",
     "grade": false,
     "grade_id": "cell-9356931c8dacdde1",
     "locked": true,
     "schema_version": 3,
     "solution": false,
     "task": false
    }
   },
   "source": [
    "The code below does the following:\n",
    "\n",
    "1. Create an array of ones using the `numpy.ones` function with one column and five rows.\n",
    "2. Change the middle value to 5.\n",
    "3. slice the column into the middle column of an array of $5\\times7$ zeros."
   ]
  },
  {
   "cell_type": "code",
   "execution_count": 13,
   "metadata": {
    "deletable": false,
    "editable": false,
    "nbgrader": {
     "cell_type": "code",
     "checksum": "4a92294e840de3081f14e55fe6c8c701",
     "grade": false,
     "grade_id": "cell-58c2b7f3d6d80c70",
     "locked": true,
     "schema_version": 3,
     "solution": false,
     "task": false
    }
   },
   "outputs": [
    {
     "name": "stdout",
     "output_type": "stream",
     "text": [
      "[[1.]\n",
      " [1.]\n",
      " [1.]\n",
      " [1.]\n",
      " [1.]]\n"
     ]
    }
   ],
   "source": [
    "myones = np.ones((5,1))\n",
    "print(myones)"
   ]
  },
  {
   "cell_type": "code",
   "execution_count": 14,
   "metadata": {
    "deletable": false,
    "editable": false,
    "nbgrader": {
     "cell_type": "code",
     "checksum": "a0ccf2aa8399a9dd7093a5333a5a8207",
     "grade": false,
     "grade_id": "cell-11cf4eb604531b42",
     "locked": true,
     "schema_version": 3,
     "solution": false,
     "task": false
    }
   },
   "outputs": [
    {
     "name": "stdout",
     "output_type": "stream",
     "text": [
      "[[1.]\n",
      " [1.]\n",
      " [5.]\n",
      " [1.]\n",
      " [1.]]\n"
     ]
    }
   ],
   "source": [
    "myones[2] = 5\n",
    "print(myones)"
   ]
  },
  {
   "cell_type": "code",
   "execution_count": 15,
   "metadata": {
    "deletable": false,
    "editable": false,
    "nbgrader": {
     "cell_type": "code",
     "checksum": "9a7a72212fa22df493bb4c4b2f8af4af",
     "grade": false,
     "grade_id": "cell-0e0ab90cdc12093c",
     "locked": true,
     "schema_version": 3,
     "solution": false,
     "task": false
    }
   },
   "outputs": [
    {
     "name": "stdout",
     "output_type": "stream",
     "text": [
      "[[0. 0. 0. 1. 0. 0. 0.]\n",
      " [0. 0. 0. 1. 0. 0. 0.]\n",
      " [0. 0. 0. 5. 0. 0. 0.]\n",
      " [0. 0. 0. 1. 0. 0. 0.]\n",
      " [0. 0. 0. 1. 0. 0. 0.]]\n"
     ]
    }
   ],
   "source": [
    "newarray = np.zeros((5, 7))\n",
    "\n",
    "newarray[:, 3] = myones[:, 0]\n",
    "print(newarray)"
   ]
  },
  {
   "cell_type": "markdown",
   "metadata": {
    "deletable": false,
    "editable": false,
    "nbgrader": {
     "cell_type": "markdown",
     "checksum": "48d1342032f24beaa8f91161cdc6501e",
     "grade": false,
     "grade_id": "cell-216ab7f68ba32f4a",
     "locked": true,
     "schema_version": 3,
     "solution": false,
     "task": false
    }
   },
   "source": [
    "* Note that `myones` is a 2D array so we have to slice all values `:` in column `0` using `[:, 0]`"
   ]
  },
  {
   "cell_type": "markdown",
   "metadata": {
    "deletable": false,
    "editable": false,
    "nbgrader": {
     "cell_type": "markdown",
     "checksum": "5dc47f678f5a41d95585fffc882f345c",
     "grade": false,
     "grade_id": "cell-d53336665bac0754",
     "locked": true,
     "schema_version": 3,
     "solution": false,
     "task": false
    }
   },
   "source": [
    "Further reading can be found [here](https://docs.scipy.org/doc/numpy/user/quickstart.html)."
   ]
  },
  {
   "cell_type": "markdown",
   "metadata": {
    "deletable": false,
    "editable": false,
    "nbgrader": {
     "cell_type": "markdown",
     "checksum": "1e8cc13df77e8f2ccd834df7d0b492f3",
     "grade": false,
     "grade_id": "cell-6e804e6f5cc774ac",
     "locked": true,
     "schema_version": 3,
     "solution": false,
     "task": false
    }
   },
   "source": [
    "## Vector and Matrix mathematics\n",
    "\n",
    "You will learn about vectors and matrices later in the maths section of this course. Numerical arrays can also be used to perform vector and matrix calculations.\n",
    "\n",
    "**Come back to this section later in the semester when you need it!**\n",
    "\n",
    "Note that there are different ways of multiplying vectors (and hence arrays)\n",
    "\n",
    "With $\\vec a = [a_1, a_2, a_3, \\cdots]$  \n",
    "and $\\vec b = [b_1, b_2, b_3, \\cdots]$\n",
    "\n",
    "### Elementwise multiplication\n",
    "\n",
    "$ [a_1 b_1, a_2 b_2, a_3 b_3, \\cdots ]$"
   ]
  },
  {
   "cell_type": "code",
   "execution_count": 16,
   "metadata": {
    "deletable": false,
    "editable": false,
    "nbgrader": {
     "cell_type": "code",
     "checksum": "7c25b36b609b2f05e551de2d3dcecf73",
     "grade": false,
     "grade_id": "cell-b441996e0197a963",
     "locked": true,
     "schema_version": 3,
     "solution": false,
     "task": false
    }
   },
   "outputs": [
    {
     "name": "stdout",
     "output_type": "stream",
     "text": [
      "[ 2  8 18 40]\n",
      "[ 2  8 18 40]\n"
     ]
    }
   ],
   "source": [
    "# element by element multiplication\n",
    "a = np.array([1,2,3,5])\n",
    "b = np.array([2,4,6,8])\n",
    "\n",
    "print( a*b )\n",
    "\n",
    "print( np.multiply(a, b) ) #alternative method"
   ]
  },
  {
   "cell_type": "markdown",
   "metadata": {
    "deletable": false,
    "editable": false,
    "nbgrader": {
     "cell_type": "markdown",
     "checksum": "63c0ebc1a6965c76b208ceaf1f437780",
     "grade": false,
     "grade_id": "cell-8e195e02a7602c54",
     "locked": true,
     "schema_version": 3,
     "solution": false,
     "task": false
    }
   },
   "source": [
    "### The scalar dot product\n",
    "\n",
    "$ \\vec a \\cdot \\vec b = a_1 b_1 + a_2 b_2 + a_3 b_3 + \\cdots$"
   ]
  },
  {
   "cell_type": "code",
   "execution_count": 17,
   "metadata": {
    "deletable": false,
    "editable": false,
    "nbgrader": {
     "cell_type": "code",
     "checksum": "b132ad1f63203efe06505b1064b0d006",
     "grade": false,
     "grade_id": "cell-c49908e141c05faa",
     "locked": true,
     "schema_version": 3,
     "solution": false,
     "task": false
    }
   },
   "outputs": [
    {
     "name": "stdout",
     "output_type": "stream",
     "text": [
      "68\n",
      "68\n"
     ]
    }
   ],
   "source": [
    "# dot product on arrays\n",
    "a = np.array([1,2,3,5])\n",
    "b = np.array([2,4,6,8])\n",
    "\n",
    "print( a@b )\n",
    "\n",
    "print( np.dot(a, b) ) #alternative method"
   ]
  },
  {
   "cell_type": "markdown",
   "metadata": {
    "deletable": false,
    "editable": false,
    "nbgrader": {
     "cell_type": "markdown",
     "checksum": "346f2d7e99c88c8a6751e2cb5c56709d",
     "grade": false,
     "grade_id": "cell-9e82756c48850f3f",
     "locked": true,
     "schema_version": 3,
     "solution": false,
     "task": false
    }
   },
   "source": [
    "### The vector cross product\n",
    "\n",
    "$$\\vec a \\times \\vec b\n",
    "=\n",
    "\\begin{pmatrix}\n",
    "a_2 b_3 - a_3 b_2 \\\\\n",
    "a_3 b_1 - a_1 b_3 \\\\\n",
    "a_1 b_2 - a_2 b_1\n",
    "\\end{pmatrix}$$"
   ]
  },
  {
   "cell_type": "code",
   "execution_count": 18,
   "metadata": {
    "deletable": false,
    "editable": false,
    "nbgrader": {
     "cell_type": "code",
     "checksum": "3e85f97c8a199c5d41bfd0fc7756df2f",
     "grade": false,
     "grade_id": "cell-07ee8d7ca19450ff",
     "locked": true,
     "schema_version": 3,
     "solution": false,
     "task": false
    }
   },
   "outputs": [
    {
     "name": "stdout",
     "output_type": "stream",
     "text": [
      "[-3  6 -3]\n"
     ]
    }
   ],
   "source": [
    "# cross product on arrays\n",
    "x = [1, 2, 3]\n",
    "y = [4, 5, 6]\n",
    "\n",
    "print( np.cross(x, y) )"
   ]
  },
  {
   "cell_type": "markdown",
   "metadata": {
    "deletable": false,
    "editable": false,
    "nbgrader": {
     "cell_type": "markdown",
     "checksum": "4358997b2ba7bcc9d6768f5321b794de",
     "grade": false,
     "grade_id": "cell-6e804e6f5cc774ad",
     "locked": true,
     "schema_version": 3,
     "solution": false,
     "task": false
    }
   },
   "source": [
    "## Matrices\n",
    "\n",
    "http://docs.scipy.org/doc/numpy/reference/generated/numpy.matrix.html\n",
    "\n",
    "A further extension to 2D arrays is doing matrix algebra using NumPy. This uses the .linalg library within NumPy\n",
    "http://docs.scipy.org/doc/numpy/reference/routines.linalg.html\n",
    "\n",
    "Linear algebra functions work OK on arrays, but it is often better to use the numpy.matrix data type.\n",
    "Matrices can be created and manipulated in similar ways to 2-D arrays, or converted from arrays to matrices."
   ]
  },
  {
   "cell_type": "code",
   "execution_count": 19,
   "metadata": {
    "deletable": false,
    "editable": false,
    "nbgrader": {
     "cell_type": "code",
     "checksum": "35739ffa6e76357544f8a2611fd55c0c",
     "grade": false,
     "grade_id": "cell-6f97f9eea10656b4",
     "locked": true,
     "schema_version": 3,
     "solution": false,
     "task": false
    }
   },
   "outputs": [
    {
     "data": {
      "text/plain": [
       "matrix([[1, 2],\n",
       "        [3, 4]])"
      ]
     },
     "execution_count": 19,
     "metadata": {},
     "output_type": "execute_result"
    }
   ],
   "source": [
    "from numpy import linalg\n",
    "import numpy as np\n",
    "\n",
    "a1=np.arange(1,5)\n",
    "#a1 = [1 2 3 4]\n",
    "\n",
    "a2=a1.reshape(2,2)\n",
    "#a2 = [[1 2]\n",
    "#      [3 4]]\n",
    "\n",
    "\n",
    "M = np.matrix(a2)\n",
    "\n",
    "M"
   ]
  },
  {
   "cell_type": "markdown",
   "metadata": {
    "deletable": false,
    "editable": false,
    "nbgrader": {
     "cell_type": "markdown",
     "checksum": "1cb6f4553b4bad9b4eb37d9f964b1185",
     "grade": false,
     "grade_id": "cell-48517197d1751ff9",
     "locked": true,
     "schema_version": 3,
     "solution": false,
     "task": false
    }
   },
   "source": [
    "Numpy matrices have special operations, including handling column vectors and proper matrix multiplication.\n",
    "\n",
    "### Row and column vectors\n",
    "A column vector can be created by transposing a row vector:"
   ]
  },
  {
   "cell_type": "code",
   "execution_count": 20,
   "metadata": {
    "deletable": false,
    "editable": false,
    "nbgrader": {
     "cell_type": "code",
     "checksum": "514b59c9bcb0d404e6b9ca2482109160",
     "grade": false,
     "grade_id": "cell-2d40f0dd105b1685",
     "locked": true,
     "schema_version": 3,
     "solution": false,
     "task": false
    }
   },
   "outputs": [
    {
     "name": "stdout",
     "output_type": "stream",
     "text": [
      "[[1 2 3 4]]\n"
     ]
    }
   ],
   "source": [
    "rvec = np.matrix(range(1,5))\n",
    "\n",
    "print(rvec)"
   ]
  },
  {
   "cell_type": "code",
   "execution_count": 21,
   "metadata": {
    "deletable": false,
    "editable": false,
    "nbgrader": {
     "cell_type": "code",
     "checksum": "1068b3632269d3b8a1720ee166e935bb",
     "grade": false,
     "grade_id": "cell-da2bba11cfb3a90c",
     "locked": true,
     "schema_version": 3,
     "solution": false,
     "task": false
    }
   },
   "outputs": [
    {
     "name": "stdout",
     "output_type": "stream",
     "text": [
      "[[1]\n",
      " [2]\n",
      " [3]\n",
      " [4]]\n"
     ]
    }
   ],
   "source": [
    "cvec = rvec.transpose()\n",
    "\n",
    "print(cvec)"
   ]
  },
  {
   "cell_type": "markdown",
   "metadata": {
    "deletable": false,
    "editable": false,
    "nbgrader": {
     "cell_type": "markdown",
     "checksum": "846b38cefd3a8b0708f564a9fb31fc17",
     "grade": false,
     "grade_id": "cell-a4579b21dcbe99d3",
     "locked": true,
     "schema_version": 3,
     "solution": false,
     "task": false
    }
   },
   "source": [
    "Note that slicing a column from a matrix results in a column vector, which can then be multiplied in the usual way:"
   ]
  },
  {
   "cell_type": "code",
   "execution_count": 22,
   "metadata": {
    "deletable": false,
    "editable": false,
    "nbgrader": {
     "cell_type": "code",
     "checksum": "07883048de5f10629f235a7dbfe54b24",
     "grade": false,
     "grade_id": "cell-357dec7ef2bb6fa1",
     "locked": true,
     "schema_version": 3,
     "solution": false,
     "task": false
    }
   },
   "outputs": [
    {
     "name": "stdout",
     "output_type": "stream",
     "text": [
      "[[1 2]]\n"
     ]
    }
   ],
   "source": [
    "v = M[0,:] #row 0, all column entries `:` \n",
    "\n",
    "print(v)"
   ]
  },
  {
   "cell_type": "code",
   "execution_count": 23,
   "metadata": {
    "deletable": false,
    "editable": false,
    "nbgrader": {
     "cell_type": "code",
     "checksum": "4314d0e7c77e3011e1b92a088b72fbc6",
     "grade": false,
     "grade_id": "cell-7728a12da34ce737",
     "locked": true,
     "schema_version": 3,
     "solution": false,
     "task": false
    }
   },
   "outputs": [
    {
     "name": "stdout",
     "output_type": "stream",
     "text": [
      "[[1]\n",
      " [3]]\n"
     ]
    }
   ],
   "source": [
    "w = M[:,0] #all row entries `:`, column 0 \n",
    "\n",
    "print(w)"
   ]
  },
  {
   "cell_type": "markdown",
   "metadata": {
    "deletable": false,
    "editable": false,
    "nbgrader": {
     "cell_type": "markdown",
     "checksum": "2a7d909a8a573cb864a681b422f8d0ee",
     "grade": false,
     "grade_id": "cell-821ddc5fe558522f",
     "locked": true,
     "schema_version": 3,
     "solution": false,
     "task": false
    }
   },
   "source": [
    "### Vector Multiplication\n",
    "\n",
    "The order you multiply vectors is important."
   ]
  },
  {
   "cell_type": "code",
   "execution_count": 24,
   "metadata": {
    "deletable": false,
    "editable": false,
    "nbgrader": {
     "cell_type": "code",
     "checksum": "ba16bd1c917227ffd09044f897edd414",
     "grade": false,
     "grade_id": "cell-e309cc72f4c8047d",
     "locked": true,
     "schema_version": 3,
     "solution": false,
     "task": false
    }
   },
   "outputs": [
    {
     "name": "stdout",
     "output_type": "stream",
     "text": [
      "[[7]]\n"
     ]
    }
   ],
   "source": [
    "c=v*w\n",
    "\n",
    "print(c)"
   ]
  },
  {
   "cell_type": "code",
   "execution_count": 25,
   "metadata": {
    "deletable": false,
    "editable": false,
    "nbgrader": {
     "cell_type": "code",
     "checksum": "6f5e7b19c2e4a87066f2571b7ea2f9f6",
     "grade": false,
     "grade_id": "cell-76ea6841c16560c6",
     "locked": true,
     "schema_version": 3,
     "solution": false,
     "task": false
    }
   },
   "outputs": [
    {
     "name": "stdout",
     "output_type": "stream",
     "text": [
      "[[1 2]\n",
      " [3 6]]\n"
     ]
    }
   ],
   "source": [
    "d=w*v\n",
    "\n",
    "print(d)"
   ]
  },
  {
   "cell_type": "markdown",
   "metadata": {
    "deletable": false,
    "editable": false,
    "nbgrader": {
     "cell_type": "markdown",
     "checksum": "26dac9dfd1b6610754477dee6db75210",
     "grade": false,
     "grade_id": "cell-fc92424d4b6499e4",
     "locked": true,
     "schema_version": 3,
     "solution": false,
     "task": false
    }
   },
   "source": [
    "Note that the `*` operator does the dot product for matrix type data (**different to regular NumPy arrays**)"
   ]
  },
  {
   "cell_type": "code",
   "execution_count": 26,
   "metadata": {
    "deletable": false,
    "editable": false,
    "nbgrader": {
     "cell_type": "code",
     "checksum": "afb59b77c723a1794583f8b92424b927",
     "grade": false,
     "grade_id": "cell-72cbd2c274da1fc5",
     "locked": true,
     "schema_version": 3,
     "solution": false,
     "task": false
    }
   },
   "outputs": [
    {
     "name": "stdout",
     "output_type": "stream",
     "text": [
      "[[1 2 3]]\n",
      "[[4]\n",
      " [5]\n",
      " [6]]\n"
     ]
    }
   ],
   "source": [
    "a = np.matrix([1,2,3])\n",
    "b = np.matrix([4,5,6]).transpose()\n",
    "\n",
    "print(a)\n",
    "print(b)"
   ]
  },
  {
   "cell_type": "code",
   "execution_count": 27,
   "metadata": {
    "deletable": false,
    "editable": false,
    "nbgrader": {
     "cell_type": "code",
     "checksum": "adc360b8a84493f02cab1b614f34e4ea",
     "grade": false,
     "grade_id": "cell-9e586a35d46e4bbd",
     "locked": true,
     "schema_version": 3,
     "solution": false,
     "task": false
    }
   },
   "outputs": [
    {
     "name": "stdout",
     "output_type": "stream",
     "text": [
      "[[32]]\n"
     ]
    }
   ],
   "source": [
    "print( a*b )"
   ]
  },
  {
   "cell_type": "markdown",
   "metadata": {
    "deletable": false,
    "editable": false,
    "nbgrader": {
     "cell_type": "markdown",
     "checksum": "8e6fcc4def6e6b6dce989d80d2afe5fb",
     "grade": false,
     "grade_id": "cell-0fadfecac27faac8",
     "locked": true,
     "schema_version": 3,
     "solution": false,
     "task": false
    }
   },
   "source": [
    "### Elementwise multiplication of a Matrix\n",
    "\n",
    "Vectors have to have the same dimensions"
   ]
  },
  {
   "cell_type": "code",
   "execution_count": 28,
   "metadata": {
    "deletable": false,
    "editable": false,
    "nbgrader": {
     "cell_type": "code",
     "checksum": "fd88f251b1a5c86e5f2e6732be4fb7e7",
     "grade": false,
     "grade_id": "cell-e952698392683c61",
     "locked": true,
     "schema_version": 3,
     "solution": false,
     "task": false
    }
   },
   "outputs": [
    {
     "name": "stdout",
     "output_type": "stream",
     "text": [
      "[[ 4 10 18]]\n"
     ]
    }
   ],
   "source": [
    "a = np.matrix([1,2,3])\n",
    "c = np.matrix([4,5,6])\n",
    "\n",
    "print( np.multiply(a, c) )"
   ]
  },
  {
   "cell_type": "code",
   "execution_count": 29,
   "metadata": {
    "deletable": false,
    "editable": false,
    "nbgrader": {
     "cell_type": "code",
     "checksum": "06c322cfa5b282041a8b16fc374952a3",
     "grade": false,
     "grade_id": "cell-79041395bcc649cf",
     "locked": true,
     "schema_version": 3,
     "solution": false,
     "task": false
    }
   },
   "outputs": [
    {
     "name": "stdout",
     "output_type": "stream",
     "text": [
      "[[ 4  8 12]\n",
      " [ 5 10 15]\n",
      " [ 6 12 18]]\n"
     ]
    }
   ],
   "source": [
    "# Work out what's going on here...\n",
    "\n",
    "a = np.matrix([1,2,3])\n",
    "b = np.matrix([4,5,6]).transpose()\n",
    "\n",
    "print( np.multiply(a, b) )"
   ]
  },
  {
   "cell_type": "markdown",
   "metadata": {
    "deletable": false,
    "editable": false,
    "nbgrader": {
     "cell_type": "markdown",
     "checksum": "23aaf7b119dbfbfe657c379a4034d9db",
     "grade": false,
     "grade_id": "cell-383e490838cde4b4",
     "locked": true,
     "schema_version": 3,
     "solution": false,
     "task": false
    }
   },
   "source": [
    "### Dot (scalar) and Cross (vector)  product \n",
    "\n",
    "Note that the functions only accept very specific orientations for the vectors,  \n",
    "and can be confusing."
   ]
  },
  {
   "cell_type": "code",
   "execution_count": 30,
   "metadata": {
    "deletable": false,
    "editable": false,
    "nbgrader": {
     "cell_type": "code",
     "checksum": "61728d7963127daf9298c77b04279342",
     "grade": false,
     "grade_id": "cell-4ed93dfa95db9bd4",
     "locked": true,
     "schema_version": 3,
     "solution": false,
     "task": false
    }
   },
   "outputs": [
    {
     "name": "stdout",
     "output_type": "stream",
     "text": [
      "[[32]]\n",
      "[[-3  6 -3]]\n"
     ]
    }
   ],
   "source": [
    "#row vector\n",
    "a = np.matrix([1,2,3])\n",
    "\n",
    "#column vector\n",
    "b = np.matrix([4,5,6]).transpose()\n",
    "\n",
    "#row vector\n",
    "c = np.matrix([4,5,6])\n",
    "\n",
    "#np.dot has to be a row and column\n",
    "print( np.dot(a, b) )\n",
    "\n",
    "#np.cross has to heve the same dimensions!\n",
    "print( np.cross(a, c) )"
   ]
  },
  {
   "cell_type": "markdown",
   "metadata": {
    "deletable": false,
    "editable": false,
    "nbgrader": {
     "cell_type": "markdown",
     "checksum": "1c50eb6e8419500e815367270aba14a9",
     "grade": false,
     "grade_id": "cell-0110b76486b8766d",
     "locked": true,
     "schema_version": 3,
     "solution": false,
     "task": false
    }
   },
   "source": [
    "### Matrix multiplication\n",
    "\n",
    "http://www.mathsisfun.com/algebra/matrix-multiplying.html\n",
    "\n",
    "Notice the difference between the folowing two cases:"
   ]
  },
  {
   "cell_type": "code",
   "execution_count": 31,
   "metadata": {
    "deletable": false,
    "editable": false,
    "nbgrader": {
     "cell_type": "code",
     "checksum": "f96308c3e7a75d253a0d4ebc8ca831fb",
     "grade": false,
     "grade_id": "cell-37f9d99a4a5ccb1e",
     "locked": true,
     "schema_version": 3,
     "solution": false,
     "task": false
    }
   },
   "outputs": [
    {
     "name": "stdout",
     "output_type": "stream",
     "text": [
      "[[ 1  4]\n",
      " [ 9 16]]\n",
      "\n",
      "[[ 7 10]\n",
      " [15 22]]\n"
     ]
    }
   ],
   "source": [
    "print(a2*a2)\n",
    "print()\n",
    "print(M*M)"
   ]
  },
  {
   "cell_type": "markdown",
   "metadata": {
    "deletable": false,
    "editable": false,
    "nbgrader": {
     "cell_type": "markdown",
     "checksum": "cfe6b4fd8ecf802b8c84fb1e493c8ef9",
     "grade": false,
     "grade_id": "cell-0d97db639730dd7e",
     "locked": true,
     "schema_version": 3,
     "solution": false,
     "task": false
    }
   },
   "source": [
    "### Inverse Matrices"
   ]
  },
  {
   "cell_type": "code",
   "execution_count": 32,
   "metadata": {
    "deletable": false,
    "editable": false,
    "nbgrader": {
     "cell_type": "code",
     "checksum": "5fdfdad0d31b60e6f300840b1ae619c5",
     "grade": false,
     "grade_id": "cell-005977da72c66926",
     "locked": true,
     "schema_version": 3,
     "solution": false,
     "task": false
    }
   },
   "outputs": [
    {
     "name": "stdout",
     "output_type": "stream",
     "text": [
      "-2.0000000000000004\n",
      "[[-2.   1. ]\n",
      " [ 1.5 -0.5]]\n"
     ]
    }
   ],
   "source": [
    "M_inv = linalg.inv(M)\n",
    "print(linalg.det(M)) #check the determinent is not zero (or within numerical error of 0)\n",
    "print(M_inv)"
   ]
  },
  {
   "cell_type": "markdown",
   "metadata": {
    "deletable": false,
    "editable": false,
    "nbgrader": {
     "cell_type": "markdown",
     "checksum": "e24393ccc99d7d91994ccbe1e7f1f348",
     "grade": false,
     "grade_id": "cell-4efe03c2c06c09e7",
     "locked": true,
     "schema_version": 3,
     "solution": false,
     "task": false
    }
   },
   "source": [
    "This can be used to solve systems such as:  \n",
    "$M\\vec x = \\vec v$\n",
    "\n",
    "i.e., to solve for $\\vec x$:  \n",
    "$\\vec x = M^{-1}\\vec v$"
   ]
  },
  {
   "cell_type": "code",
   "execution_count": 33,
   "metadata": {
    "deletable": false,
    "editable": false,
    "nbgrader": {
     "cell_type": "code",
     "checksum": "7a2d88e04e7bf9f9bee6aadf2e24e126",
     "grade": false,
     "grade_id": "cell-00faa3cfd3e19055",
     "locked": true,
     "schema_version": 3,
     "solution": false,
     "task": false
    }
   },
   "outputs": [
    {
     "name": "stdout",
     "output_type": "stream",
     "text": [
      "[[ 6 -5  0]\n",
      " [ 2  3  6]\n",
      " [-2  2 -1]]\n",
      "[[1]\n",
      " [2]\n",
      " [3]]\n"
     ]
    }
   ],
   "source": [
    "m=np.matrix(\"6,-5,0; 2,3,6; -2,2,-1\") #this is another way of making a matrix\n",
    "v=np.matrix(\"1; 2; 3\") #semicolons separate the rows\n",
    "print(m)\n",
    "print(v)"
   ]
  },
  {
   "cell_type": "code",
   "execution_count": 34,
   "metadata": {
    "deletable": false,
    "editable": false,
    "nbgrader": {
     "cell_type": "code",
     "checksum": "fd4853cdc8f59735b8bb88c4ddc238f9",
     "grade": false,
     "grade_id": "cell-7bda0baaaf316148",
     "locked": true,
     "schema_version": 3,
     "solution": false,
     "task": false
    }
   },
   "outputs": [
    {
     "name": "stdout",
     "output_type": "stream",
     "text": [
      "-40.000000000000014\n",
      "[[ 2.875]\n",
      " [ 3.25 ]\n",
      " [-2.25 ]]\n"
     ]
    }
   ],
   "source": [
    "m_inv = linalg.inv(m)\n",
    "print(linalg.det(m))\n",
    "x = m_inv*v\n",
    "print(x)"
   ]
  },
  {
   "cell_type": "markdown",
   "metadata": {
    "deletable": false,
    "editable": false,
    "nbgrader": {
     "cell_type": "markdown",
     "checksum": "26eae1baa3050f4ce53d56022e08f0dc",
     "grade": false,
     "grade_id": "cell-e3f3e82f02d1d0ec",
     "locked": true,
     "schema_version": 3,
     "solution": false,
     "task": false
    }
   },
   "source": [
    "Use this to check your answers to the Maths problems later in the course!"
   ]
  },
  {
   "cell_type": "markdown",
   "metadata": {
    "deletable": false,
    "editable": false,
    "nbgrader": {
     "cell_type": "markdown",
     "checksum": "8d7c84cf6b2089df703ae6bc2fac3881",
     "grade": false,
     "grade_id": "cell-4accb3af8916164a",
     "locked": true,
     "schema_version": 3,
     "solution": false,
     "task": false
    }
   },
   "source": [
    "### Eigenvalues and eigenvectors\n",
    "\n",
    "http://docs.scipy.org/doc/scipy/reference/generated/scipy.linalg.eig.html"
   ]
  },
  {
   "cell_type": "code",
   "execution_count": 35,
   "metadata": {
    "deletable": false,
    "editable": false,
    "nbgrader": {
     "cell_type": "code",
     "checksum": "3f2a5df41fc1d7c4d457cbbba1937869",
     "grade": false,
     "grade_id": "cell-8550c03476b6d937",
     "locked": true,
     "schema_version": 3,
     "solution": false,
     "task": false
    }
   },
   "outputs": [
    {
     "name": "stdout",
     "output_type": "stream",
     "text": [
      "[[1. 0. 0.]\n",
      " [0. 1. 0.]\n",
      " [0. 0. 1.]]\n"
     ]
    }
   ],
   "source": [
    "My = np.eye(3) #the identity matrix\n",
    "\n",
    "print(My)"
   ]
  },
  {
   "cell_type": "code",
   "execution_count": 36,
   "metadata": {
    "deletable": false,
    "editable": false,
    "nbgrader": {
     "cell_type": "code",
     "checksum": "934f6c021041479dbe077e40e9a3af2a",
     "grade": false,
     "grade_id": "cell-3f94589354373e0f",
     "locked": true,
     "schema_version": 3,
     "solution": false,
     "task": false
    }
   },
   "outputs": [
    {
     "name": "stdout",
     "output_type": "stream",
     "text": [
      "[[1. 1. 0.]\n",
      " [1. 1. 0.]\n",
      " [0. 0. 1.]]\n"
     ]
    }
   ],
   "source": [
    "My[1,0]=My[0,1]=1\n",
    "\n",
    "print(My)"
   ]
  },
  {
   "cell_type": "code",
   "execution_count": 37,
   "metadata": {
    "deletable": false,
    "editable": false,
    "nbgrader": {
     "cell_type": "code",
     "checksum": "3f13d38d091809e6a374b581de09d0f4",
     "grade": false,
     "grade_id": "cell-c2abc5540aa7bb81",
     "locked": true,
     "schema_version": 3,
     "solution": false,
     "task": false
    }
   },
   "outputs": [
    {
     "name": "stdout",
     "output_type": "stream",
     "text": [
      "[2. 0. 1.]\n",
      "[[ 0.70710678 -0.70710678  0.        ]\n",
      " [ 0.70710678  0.70710678  0.        ]\n",
      " [ 0.          0.          1.        ]]\n"
     ]
    }
   ],
   "source": [
    "evals,evecs = linalg.eig(My)\n",
    "\n",
    "print(evals)\n",
    "\n",
    "print(evecs)"
   ]
  },
  {
   "cell_type": "code",
   "execution_count": 38,
   "metadata": {
    "deletable": false,
    "editable": false,
    "nbgrader": {
     "cell_type": "code",
     "checksum": "dd18eb46c6173a163ec41260349a2c8b",
     "grade": false,
     "grade_id": "cell-27e602fa54f86734",
     "locked": true,
     "schema_version": 3,
     "solution": false,
     "task": false
    }
   },
   "outputs": [
    {
     "name": "stdout",
     "output_type": "stream",
     "text": [
      "Eigenvalue 2.0 has eigenvector [0.70710678 0.70710678 0.        ]\n",
      "Eigenvalue 0.0 has eigenvector [-0.70710678  0.70710678  0.        ]\n",
      "Eigenvalue 1.0 has eigenvector [0. 0. 1.]\n"
     ]
    }
   ],
   "source": [
    "for i in range(3):\n",
    "    print(\"Eigenvalue\", evals[i], \"has eigenvector\", evecs[:,i])"
   ]
  },
  {
   "cell_type": "markdown",
   "metadata": {
    "deletable": false,
    "editable": false,
    "nbgrader": {
     "cell_type": "markdown",
     "checksum": "74c5a6b92dc8377e44c5c95e77f4a65b",
     "grade": false,
     "grade_id": "cell-646ec2fa3790501f",
     "locked": true,
     "schema_version": 3,
     "solution": false,
     "task": false
    }
   },
   "source": [
    "### Exercise (later in the course): Do the exercises from your Maths problems to check the answers and understand how these functions work.\n",
    "\n",
    "\n",
    "The help manual below can be used for more information:"
   ]
  },
  {
   "cell_type": "code",
   "execution_count": 39,
   "metadata": {
    "deletable": false,
    "editable": false,
    "nbgrader": {
     "cell_type": "code",
     "checksum": "b90c82817493adb319bb95e6d9f1b9a1",
     "grade": false,
     "grade_id": "cell-36fb301343d3e917",
     "locked": true,
     "schema_version": 3,
     "solution": false,
     "task": false
    }
   },
   "outputs": [
    {
     "name": "stdout",
     "output_type": "stream",
     "text": [
      "Help on _ArrayFunctionDispatcher in module numpy.linalg:\n",
      "\n",
      "eig(a)\n",
      "    Compute the eigenvalues and right eigenvectors of a square array.\n",
      "    \n",
      "    Parameters\n",
      "    ----------\n",
      "    a : (..., M, M) array\n",
      "        Matrices for which the eigenvalues and right eigenvectors will\n",
      "        be computed\n",
      "    \n",
      "    Returns\n",
      "    -------\n",
      "    A namedtuple with the following attributes:\n",
      "    \n",
      "    eigenvalues : (..., M) array\n",
      "        The eigenvalues, each repeated according to its multiplicity.\n",
      "        The eigenvalues are not necessarily ordered. The resulting\n",
      "        array will be of complex type, unless the imaginary part is\n",
      "        zero in which case it will be cast to a real type. When `a`\n",
      "        is real the resulting eigenvalues will be real (0 imaginary\n",
      "        part) or occur in conjugate pairs\n",
      "    \n",
      "    eigenvectors : (..., M, M) array\n",
      "        The normalized (unit \"length\") eigenvectors, such that the\n",
      "        column ``eigenvectors[:,i]`` is the eigenvector corresponding to the\n",
      "        eigenvalue ``eigenvalues[i]``.\n",
      "    \n",
      "    Raises\n",
      "    ------\n",
      "    LinAlgError\n",
      "        If the eigenvalue computation does not converge.\n",
      "    \n",
      "    See Also\n",
      "    --------\n",
      "    eigvals : eigenvalues of a non-symmetric array.\n",
      "    eigh : eigenvalues and eigenvectors of a real symmetric or complex\n",
      "           Hermitian (conjugate symmetric) array.\n",
      "    eigvalsh : eigenvalues of a real symmetric or complex Hermitian\n",
      "               (conjugate symmetric) array.\n",
      "    scipy.linalg.eig : Similar function in SciPy that also solves the\n",
      "                       generalized eigenvalue problem.\n",
      "    scipy.linalg.schur : Best choice for unitary and other non-Hermitian\n",
      "                         normal matrices.\n",
      "    \n",
      "    Notes\n",
      "    -----\n",
      "    \n",
      "    .. versionadded:: 1.8.0\n",
      "    \n",
      "    Broadcasting rules apply, see the `numpy.linalg` documentation for\n",
      "    details.\n",
      "    \n",
      "    This is implemented using the ``_geev`` LAPACK routines which compute\n",
      "    the eigenvalues and eigenvectors of general square arrays.\n",
      "    \n",
      "    The number `w` is an eigenvalue of `a` if there exists a vector `v` such\n",
      "    that ``a @ v = w * v``. Thus, the arrays `a`, `eigenvalues`, and\n",
      "    `eigenvectors` satisfy the equations ``a @ eigenvectors[:,i] =\n",
      "    eigenvalues[i] * eigenvalues[:,i]`` for :math:`i \\in \\{0,...,M-1\\}`.\n",
      "    \n",
      "    The array `eigenvectors` may not be of maximum rank, that is, some of the\n",
      "    columns may be linearly dependent, although round-off error may obscure\n",
      "    that fact. If the eigenvalues are all different, then theoretically the\n",
      "    eigenvectors are linearly independent and `a` can be diagonalized by a\n",
      "    similarity transformation using `eigenvectors`, i.e, ``inv(eigenvectors) @\n",
      "    a @ eigenvectors`` is diagonal.\n",
      "    \n",
      "    For non-Hermitian normal matrices the SciPy function `scipy.linalg.schur`\n",
      "    is preferred because the matrix `eigenvectors` is guaranteed to be\n",
      "    unitary, which is not the case when using `eig`. The Schur factorization\n",
      "    produces an upper triangular matrix rather than a diagonal matrix, but for\n",
      "    normal matrices only the diagonal of the upper triangular matrix is\n",
      "    needed, the rest is roundoff error.\n",
      "    \n",
      "    Finally, it is emphasized that `eigenvectors` consists of the *right* (as\n",
      "    in right-hand side) eigenvectors of `a`. A vector `y` satisfying ``y.T @ a\n",
      "    = z * y.T`` for some number `z` is called a *left* eigenvector of `a`,\n",
      "    and, in general, the left and right eigenvectors of a matrix are not\n",
      "    necessarily the (perhaps conjugate) transposes of each other.\n",
      "    \n",
      "    References\n",
      "    ----------\n",
      "    G. Strang, *Linear Algebra and Its Applications*, 2nd Ed., Orlando, FL,\n",
      "    Academic Press, Inc., 1980, Various pp.\n",
      "    \n",
      "    Examples\n",
      "    --------\n",
      "    >>> from numpy import linalg as LA\n",
      "    \n",
      "    (Almost) trivial example with real eigenvalues and eigenvectors.\n",
      "    \n",
      "    >>> eigenvalues, eigenvectors = LA.eig(np.diag((1, 2, 3)))\n",
      "    >>> eigenvalues\n",
      "    array([1., 2., 3.])\n",
      "    >>> eigenvectors\n",
      "    array([[1., 0., 0.],\n",
      "           [0., 1., 0.],\n",
      "           [0., 0., 1.]])\n",
      "    \n",
      "    Real matrix possessing complex eigenvalues and eigenvectors; note that the\n",
      "    eigenvalues are complex conjugates of each other.\n",
      "    \n",
      "    >>> eigenvalues, eigenvectors = LA.eig(np.array([[1, -1], [1, 1]]))\n",
      "    >>> eigenvalues\n",
      "    array([1.+1.j, 1.-1.j])\n",
      "    >>> eigenvectors\n",
      "    array([[0.70710678+0.j        , 0.70710678-0.j        ],\n",
      "           [0.        -0.70710678j, 0.        +0.70710678j]])\n",
      "    \n",
      "    Complex-valued matrix with real eigenvalues (but complex-valued eigenvectors);\n",
      "    note that ``a.conj().T == a``, i.e., `a` is Hermitian.\n",
      "    \n",
      "    >>> a = np.array([[1, 1j], [-1j, 1]])\n",
      "    >>> eigenvalues, eigenvectors = LA.eig(a)\n",
      "    >>> eigenvalues\n",
      "    array([2.+0.j, 0.+0.j])\n",
      "    >>> eigenvectors\n",
      "    array([[ 0.        +0.70710678j,  0.70710678+0.j        ], # may vary\n",
      "           [ 0.70710678+0.j        , -0.        +0.70710678j]])\n",
      "    \n",
      "    Be careful about round-off error!\n",
      "    \n",
      "    >>> a = np.array([[1 + 1e-9, 0], [0, 1 - 1e-9]])\n",
      "    >>> # Theor. eigenvalues are 1 +/- 1e-9\n",
      "    >>> eigenvalues, eigenvectors = LA.eig(a)\n",
      "    >>> eigenvalues\n",
      "    array([1., 1.])\n",
      "    >>> eigenvectors\n",
      "    array([[1., 0.],\n",
      "           [0., 1.]])\n",
      "\n"
     ]
    }
   ],
   "source": [
    "help(linalg.eig)\n"
   ]
  }
 ],
 "metadata": {
  "hide_input": false,
  "kernelspec": {
   "display_name": "Python 3 (ipykernel)",
   "language": "python",
   "name": "python3"
  },
  "language_info": {
   "codemirror_mode": {
    "name": "ipython",
    "version": 3
   },
   "file_extension": ".py",
   "mimetype": "text/x-python",
   "name": "python",
   "nbconvert_exporter": "python",
   "pygments_lexer": "ipython3",
   "version": "3.11.9"
  },
  "toc": {
   "base_numbering": 1,
   "nav_menu": {},
   "number_sections": true,
   "sideBar": true,
   "skip_h1_title": false,
   "title_cell": "Table of Contents",
   "title_sidebar": "Contents",
   "toc_cell": false,
   "toc_position": {},
   "toc_section_display": true,
   "toc_window_display": false
  }
 },
 "nbformat": 4,
 "nbformat_minor": 1
}
